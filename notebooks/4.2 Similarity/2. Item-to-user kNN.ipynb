{
 "cells": [
  {
   "cell_type": "code",
   "execution_count": 1,
   "metadata": {
    "slideshow": {
     "slide_type": "slide"
    }
   },
   "outputs": [
    {
     "name": "stdout",
     "output_type": "stream",
     "text": [
      "Используем Python 3.6.3 (default, Oct  3 2017, 21:45:48) \n",
      "[GCC 7.2.0]\n"
     ]
    }
   ],
   "source": [
    "import sys\n",
    "\n",
    "print(\"Используем Python {}\".format(sys.version))"
   ]
  },
  {
   "cell_type": "code",
   "execution_count": 2,
   "metadata": {
    "slideshow": {
     "slide_type": "fragment"
    }
   },
   "outputs": [
    {
     "name": "stdout",
     "output_type": "stream",
     "text": [
      "Используем pandas 0.20.3\n"
     ]
    }
   ],
   "source": [
    "import pandas as pd\n",
    "\n",
    "print(\"Используем pandas {}\".format(pd.__version__))"
   ]
  },
  {
   "cell_type": "code",
   "execution_count": 3,
   "metadata": {
    "slideshow": {
     "slide_type": "fragment"
    }
   },
   "outputs": [
    {
     "name": "stdout",
     "output_type": "stream",
     "text": [
      "Используем scipy 1.0.0\n"
     ]
    }
   ],
   "source": [
    "import scipy\n",
    "\n",
    "print(\"Используем scipy {}\".format(scipy.__version__))"
   ]
  },
  {
   "cell_type": "code",
   "execution_count": 4,
   "metadata": {
    "slideshow": {
     "slide_type": "fragment"
    }
   },
   "outputs": [
    {
     "name": "stdout",
     "output_type": "stream",
     "text": [
      "Используем numpy 1.13.3\n"
     ]
    }
   ],
   "source": [
    "import numpy as np\n",
    "\n",
    "print(\"Используем numpy {}\".format(np.__version__))"
   ]
  },
  {
   "cell_type": "code",
   "execution_count": 5,
   "metadata": {
    "slideshow": {
     "slide_type": "slide"
    }
   },
   "outputs": [],
   "source": [
    "# эта функция нам поможет считывать данные\n",
    "from os import path\n",
    "\n",
    "def read_csv(filename: str):\n",
    "    data_dir = \"../../data/ml-latest-small\"\n",
    "    data = pd.read_csv(path.join(data_dir, filename + \".csv\"))\n",
    "    return data\n",
    "\n",
    "ratings = read_csv(\"ratings\")\n",
    "movies = read_csv(\"movies\")"
   ]
  },
  {
   "cell_type": "code",
   "execution_count": 6,
   "metadata": {
    "slideshow": {
     "slide_type": "slide"
    }
   },
   "outputs": [
    {
     "data": {
      "text/html": [
       "<div>\n",
       "<style>\n",
       "    .dataframe thead tr:only-child th {\n",
       "        text-align: right;\n",
       "    }\n",
       "\n",
       "    .dataframe thead th {\n",
       "        text-align: left;\n",
       "    }\n",
       "\n",
       "    .dataframe tbody tr th {\n",
       "        vertical-align: top;\n",
       "    }\n",
       "</style>\n",
       "<table border=\"1\" class=\"dataframe\">\n",
       "  <thead>\n",
       "    <tr style=\"text-align: right;\">\n",
       "      <th></th>\n",
       "      <th>userId</th>\n",
       "      <th>movieId</th>\n",
       "      <th>rating</th>\n",
       "      <th>timestamp</th>\n",
       "    </tr>\n",
       "  </thead>\n",
       "  <tbody>\n",
       "    <tr>\n",
       "      <th>0</th>\n",
       "      <td>1</td>\n",
       "      <td>31</td>\n",
       "      <td>2.5</td>\n",
       "      <td>1260759144</td>\n",
       "    </tr>\n",
       "    <tr>\n",
       "      <th>1</th>\n",
       "      <td>1</td>\n",
       "      <td>1029</td>\n",
       "      <td>3.0</td>\n",
       "      <td>1260759179</td>\n",
       "    </tr>\n",
       "    <tr>\n",
       "      <th>2</th>\n",
       "      <td>1</td>\n",
       "      <td>1061</td>\n",
       "      <td>3.0</td>\n",
       "      <td>1260759182</td>\n",
       "    </tr>\n",
       "    <tr>\n",
       "      <th>3</th>\n",
       "      <td>1</td>\n",
       "      <td>1129</td>\n",
       "      <td>2.0</td>\n",
       "      <td>1260759185</td>\n",
       "    </tr>\n",
       "    <tr>\n",
       "      <th>4</th>\n",
       "      <td>1</td>\n",
       "      <td>1172</td>\n",
       "      <td>4.0</td>\n",
       "      <td>1260759205</td>\n",
       "    </tr>\n",
       "  </tbody>\n",
       "</table>\n",
       "</div>"
      ],
      "text/plain": [
       "   userId  movieId  rating   timestamp\n",
       "0       1       31     2.5  1260759144\n",
       "1       1     1029     3.0  1260759179\n",
       "2       1     1061     3.0  1260759182\n",
       "3       1     1129     2.0  1260759185\n",
       "4       1     1172     4.0  1260759205"
      ]
     },
     "execution_count": 6,
     "metadata": {},
     "output_type": "execute_result"
    }
   ],
   "source": [
    "# пользователи ставят фильмам оценки\n",
    "ratings.head()"
   ]
  },
  {
   "cell_type": "code",
   "execution_count": 7,
   "metadata": {
    "slideshow": {
     "slide_type": "slide"
    }
   },
   "outputs": [
    {
     "data": {
      "text/html": [
       "<div>\n",
       "<style>\n",
       "    .dataframe thead tr:only-child th {\n",
       "        text-align: right;\n",
       "    }\n",
       "\n",
       "    .dataframe thead th {\n",
       "        text-align: left;\n",
       "    }\n",
       "\n",
       "    .dataframe tbody tr th {\n",
       "        vertical-align: top;\n",
       "    }\n",
       "</style>\n",
       "<table border=\"1\" class=\"dataframe\">\n",
       "  <thead>\n",
       "    <tr style=\"text-align: right;\">\n",
       "      <th></th>\n",
       "      <th>movieId</th>\n",
       "      <th>title</th>\n",
       "      <th>genres</th>\n",
       "    </tr>\n",
       "  </thead>\n",
       "  <tbody>\n",
       "    <tr>\n",
       "      <th>0</th>\n",
       "      <td>1</td>\n",
       "      <td>Toy Story (1995)</td>\n",
       "      <td>Adventure|Animation|Children|Comedy|Fantasy</td>\n",
       "    </tr>\n",
       "    <tr>\n",
       "      <th>1</th>\n",
       "      <td>2</td>\n",
       "      <td>Jumanji (1995)</td>\n",
       "      <td>Adventure|Children|Fantasy</td>\n",
       "    </tr>\n",
       "    <tr>\n",
       "      <th>2</th>\n",
       "      <td>3</td>\n",
       "      <td>Grumpier Old Men (1995)</td>\n",
       "      <td>Comedy|Romance</td>\n",
       "    </tr>\n",
       "    <tr>\n",
       "      <th>3</th>\n",
       "      <td>4</td>\n",
       "      <td>Waiting to Exhale (1995)</td>\n",
       "      <td>Comedy|Drama|Romance</td>\n",
       "    </tr>\n",
       "    <tr>\n",
       "      <th>4</th>\n",
       "      <td>5</td>\n",
       "      <td>Father of the Bride Part II (1995)</td>\n",
       "      <td>Comedy</td>\n",
       "    </tr>\n",
       "  </tbody>\n",
       "</table>\n",
       "</div>"
      ],
      "text/plain": [
       "   movieId                               title  \\\n",
       "0        1                    Toy Story (1995)   \n",
       "1        2                      Jumanji (1995)   \n",
       "2        3             Grumpier Old Men (1995)   \n",
       "3        4            Waiting to Exhale (1995)   \n",
       "4        5  Father of the Bride Part II (1995)   \n",
       "\n",
       "                                        genres  \n",
       "0  Adventure|Animation|Children|Comedy|Fantasy  \n",
       "1                   Adventure|Children|Fantasy  \n",
       "2                               Comedy|Romance  \n",
       "3                         Comedy|Drama|Romance  \n",
       "4                                       Comedy  "
      ]
     },
     "execution_count": 7,
     "metadata": {},
     "output_type": "execute_result"
    }
   ],
   "source": [
    "# про фильмы знаем названия и жанры\n",
    "movies.head()"
   ]
  },
  {
   "cell_type": "code",
   "execution_count": 8,
   "metadata": {
    "slideshow": {
     "slide_type": "slide"
    }
   },
   "outputs": [
    {
     "name": "stdout",
     "output_type": "stream",
     "text": [
      "163949\n",
      "671\n"
     ]
    }
   ],
   "source": [
    "# максимальный ID фильма\n",
    "last_movie_id = ratings[\"movieId\"].max()\n",
    "print(last_movie_id)\n",
    "# максимальный ID пользователя\n",
    "last_user_id = ratings[\"userId\"].max()\n",
    "print(last_user_id)"
   ]
  },
  {
   "cell_type": "code",
   "execution_count": 9,
   "metadata": {
    "slideshow": {
     "slide_type": "slide"
    }
   },
   "outputs": [
    {
     "name": "stdout",
     "output_type": "stream",
     "text": [
      "Размерности матрицы: (672, 163950)\n",
      "Ненулевых элементов в матрице: 100004\n",
      "Доля ненулевых элементов: 0.0009076881743853382\n"
     ]
    }
   ],
   "source": [
    "from scipy.sparse import csr_matrix\n",
    "\n",
    "def sparse_info(sparse_matrix: csr_matrix):\n",
    "    print(\"Размерности матрицы: {}\".format(sparse_matrix.shape))\n",
    "    print(\"Ненулевых элементов в матрице: {}\".format(sparse_matrix.nnz))\n",
    "    print(\"Доля ненулевых элементов: {}\"\n",
    "          .format(sparse_matrix.nnz / sparse_matrix.shape[0] / sparse_matrix.shape[1])\n",
    "    )\n",
    "\n",
    "user_x_item = ratings[[\"userId\", \"movieId\"]].as_matrix()\n",
    "user_x_item\n",
    "# здесь уже на пересечении строк и столбцов матрицы стоят не единички, а реальные оценки\n",
    "user_item_matrix = csr_matrix(\n",
    "    (\n",
    "        ratings[\"rating\"].tolist(),\n",
    "        (\n",
    "            [pair[0] for pair in user_x_item],\n",
    "            [pair[1] for pair in user_x_item],\n",
    "        )\n",
    "    ),\n",
    "    shape=(last_user_id + 1, last_movie_id + 1),\n",
    "    dtype=np.float32\n",
    ")\n",
    "\n",
    "sparse_info(user_item_matrix)"
   ]
  },
  {
   "cell_type": "code",
   "execution_count": 10,
   "metadata": {
    "slideshow": {
     "slide_type": "fragment"
    }
   },
   "outputs": [
    {
     "name": "stdout",
     "output_type": "stream",
     "text": [
      "  (4, 0)\t5.0\n",
      "  (7, 0)\t5.0\n",
      "  (8, 0)\t3.5\n",
      "  (15, 0)\t5.0\n",
      "  (17, 0)\t3.5\n",
      "  (18, 0)\t3.0\n",
      "  (19, 0)\t4.0\n",
      "  (20, 0)\t1.5\n",
      "  (21, 0)\t3.0\n",
      "  (22, 0)\t4.0\n",
      "  (23, 0)\t4.5\n",
      "  (25, 0)\t4.0\n",
      "  (26, 0)\t3.0\n",
      "  (30, 0)\t4.0\n",
      "  (31, 0)\t4.0\n",
      "  (34, 0)\t4.0\n",
      "  (36, 0)\t5.0\n",
      "  (40, 0)\t4.5\n",
      "  (41, 0)\t4.0\n",
      "  (42, 0)\t4.5\n",
      "  (44, 0)\t3.0\n",
      "  (55, 0)\t5.0\n",
      "  (56, 0)\t2.0\n",
      "  (57, 0)\t4.0\n",
      "  (62, 0)\t4.0\n",
      "  :\t:\n",
      "  (607, 0)\t4.5\n",
      "  (611, 0)\t2.0\n",
      "  (613, 0)\t5.0\n",
      "  (614, 0)\t4.0\n",
      "  (615, 0)\t3.5\n",
      "  (616, 0)\t5.0\n",
      "  (620, 0)\t4.0\n",
      "  (622, 0)\t5.0\n",
      "  (624, 0)\t5.0\n",
      "  (626, 0)\t3.0\n",
      "  (627, 0)\t4.0\n",
      "  (636, 0)\t3.0\n",
      "  (640, 0)\t5.0\n",
      "  (643, 0)\t5.0\n",
      "  (646, 0)\t5.0\n",
      "  (647, 0)\t5.0\n",
      "  (651, 0)\t5.0\n",
      "  (654, 0)\t5.0\n",
      "  (655, 0)\t2.5\n",
      "  (659, 0)\t5.0\n",
      "  (660, 0)\t4.5\n",
      "  (664, 0)\t4.5\n",
      "  (665, 0)\t4.0\n",
      "  (669, 0)\t5.0\n",
      "  (671, 0)\t5.0\n"
     ]
    }
   ],
   "source": [
    "# представление фильма в виде вектора его оценок\n",
    "movie_id = 260\n",
    "print(user_item_matrix[:, movie_id])"
   ]
  },
  {
   "cell_type": "code",
   "execution_count": 11,
   "metadata": {
    "slideshow": {
     "slide_type": "slide"
    }
   },
   "outputs": [
    {
     "name": "stdout",
     "output_type": "stream",
     "text": [
      "Размерности матрицы: (163950, 163950)\n",
      "Ненулевых элементов в матрице: 21983224\n",
      "Доля ненулевых элементов: 0.0008178403679890727\n"
     ]
    }
   ],
   "source": [
    "# теперь найдём матрицу схожести между фильмами\n",
    "from sklearn.preprocessing import normalize\n",
    "\n",
    "def get_cosine_similarity_matrix(user_item_matrix):\n",
    "    # матрицы этого типа быстрее умножаются\n",
    "    user_item_csr = user_item_matrix.tocsr()\n",
    "    # нормализация и последующее умножение эквивалентно нахождению косинуса между столбцами матрицы\n",
    "    # user_item_normalized = normalize(user_item_csr, norm='l1', axis=0)\n",
    "    user_item_normalized = user_item_csr\n",
    "    return user_item_normalized.T.dot(user_item_normalized)\n",
    "\n",
    "similarity_matrix = get_cosine_similarity_matrix(user_item_matrix)\n",
    "sparse_info(similarity_matrix)"
   ]
  },
  {
   "cell_type": "code",
   "execution_count": 12,
   "metadata": {
    "slideshow": {
     "slide_type": "slide"
    }
   },
   "outputs": [],
   "source": [
    "from scipy.sparse import vstack, csr_matrix\n",
    "\n",
    "k = 5\n",
    "\n",
    "# оставляем только top k схожих элементов (k ближайших соседей)\n",
    "def get_top_k_in_a_row(similarity_matrix, row, k, no_diagonal):\n",
    "    lil_row = similarity_matrix[row]\n",
    "    # каждый фильм очень сильно схож сам с собой, но это бесполезная информация\n",
    "    if no_diagonal:\n",
    "        lil_row[0, row] = 0\n",
    "    csr_row = lil_row.tocsr()\n",
    "    csr_row.data[csr_row.data.argsort()[:-k]] = 0\n",
    "    csr_row.eliminate_zeros()\n",
    "    return csr_row\n",
    "\n",
    "def get_top_k(similarity_matrix, k, no_diagonal=True):\n",
    "    # с матрицами этого типа удобнее всего работать построчно\n",
    "    lil_similarity = similarity_matrix.tolil()\n",
    "    top_k_similarity_matrix = get_top_k_in_a_row(lil_similarity, 0, k, no_diagonal)\n",
    "    for row in range(1, lil_similarity.shape[0]):\n",
    "        if len(lil_similarity.rows[row]) > 0:\n",
    "            csr_row = get_top_k_in_a_row(lil_similarity, row, k, no_diagonal)\n",
    "            top_k_similarity_matrix = vstack([top_k_similarity_matrix, csr_row])\n",
    "    return top_k_similarity_matrix\n",
    "\n",
    "top_k_similarity_matrix = get_top_k(similarity_matrix, k)"
   ]
  },
  {
   "cell_type": "code",
   "execution_count": 13,
   "metadata": {
    "slideshow": {
     "slide_type": "fragment"
    }
   },
   "outputs": [
    {
     "name": "stdout",
     "output_type": "stream",
     "text": [
      "Было: 21983224\n",
      "Стало: 45330\n"
     ]
    }
   ],
   "source": [
    "# ненулевых элементов стало гораздо меньше\n",
    "print(\"Было:\", similarity_matrix.nnz)\n",
    "print(\"Стало:\", top_k_similarity_matrix.nnz)"
   ]
  },
  {
   "cell_type": "code",
   "execution_count": 14,
   "metadata": {},
   "outputs": [
    {
     "name": "stdout",
     "output_type": "stream",
     "text": [
      "Размер обучающей выборки: 80003\n",
      "Размер тестовой выборки: 20001\n"
     ]
    }
   ],
   "source": [
    "# выделяем обучающую и тестовую выборки\n",
    "from scipy.sparse import coo_matrix\n",
    "\n",
    "np.random.seed(0)\n",
    "train_percent = 0.8\n",
    "user_item_matrix = user_item_matrix.tocoo()\n",
    "train_split = np.random.choice(\n",
    "    range(user_item_matrix.nnz),\n",
    "    int(user_item_matrix.nnz * train_percent),\n",
    "    replace=False\n",
    ")\n",
    "test_split = list(set(range(user_item_matrix.nnz)) - set(train_split))\n",
    "train_matrix = coo_matrix(\n",
    "    (\n",
    "        user_item_matrix.data[train_split],\n",
    "        (user_item_matrix.row[train_split], user_item_matrix.col[train_split])\n",
    "    ),\n",
    "    shape=user_item_matrix.shape\n",
    ")\n",
    "test_matrix = coo_matrix(\n",
    "    (\n",
    "        user_item_matrix.data[test_split],\n",
    "        (user_item_matrix.row[test_split], user_item_matrix.col[test_split])\n",
    "    ),\n",
    "    shape=user_item_matrix.shape\n",
    ")\n",
    "print(\"Размер обучающей выборки:\", train_matrix.nnz)\n",
    "print(\"Размер тестовой выборки:\", test_matrix.nnz)"
   ]
  },
  {
   "cell_type": "code",
   "execution_count": 15,
   "metadata": {},
   "outputs": [],
   "source": [
    "# нахождение предсказаний эквивалентно умножению нормированной матрицы схожести на вектор оценок пользователя\n",
    "normalized_similarity = normalize(similarity_matrix.tocsr(), norm=\"l1\", axis=1)\n",
    "raw_predictions = train_matrix.dot(normalized_similarity)\n",
    "# но мы не можем рекомендовать каждому пользователю больше N элементов\n",
    "N = 20\n",
    "recommendations = get_top_k(raw_predictions, N, no_diagonal=False)"
   ]
  },
  {
   "cell_type": "code",
   "execution_count": 16,
   "metadata": {},
   "outputs": [
    {
     "name": "stdout",
     "output_type": "stream",
     "text": [
      "1093264.25\n"
     ]
    }
   ],
   "source": [
    "# какая-то оценка качества\n",
    "MSE = sum((user_item_matrix - test_matrix).data ** 2)\n",
    "print(MSE)"
   ]
  }
 ],
 "metadata": {
  "celltoolbar": "Slideshow",
  "kernelspec": {
   "display_name": "Python 3",
   "language": "python",
   "name": "python3"
  },
  "language_info": {
   "codemirror_mode": {
    "name": "ipython",
    "version": 3
   },
   "file_extension": ".py",
   "mimetype": "text/x-python",
   "name": "python",
   "nbconvert_exporter": "python",
   "pygments_lexer": "ipython3",
   "version": "3.6.3"
  }
 },
 "nbformat": 4,
 "nbformat_minor": 1
}
