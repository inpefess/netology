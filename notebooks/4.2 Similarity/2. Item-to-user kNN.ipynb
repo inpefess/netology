{
 "cells": [
  {
   "cell_type": "code",
   "execution_count": 4,
   "metadata": {
    "slideshow": {
     "slide_type": "slide"
    }
   },
   "outputs": [],
   "source": [
    "# это мы уже делали в предыдущей тетрадке\n",
    "import sys\n",
    "import pandas as pd\n",
    "import scipy\n",
    "import numpy as np\n",
    "from os import path\n",
    "from scipy.sparse import csr_matrix\n",
    "\n",
    "data_dir = \"/home/ubuntu/data/movielens/ml-latest-small\"\n",
    "def read_csv(filename: str):\n",
    "    data = pd.read_csv(path.join(data_dir, filename + \".csv\"))\n",
    "    return data\n",
    "\n",
    "ratings = read_csv(\"ratings\")\n",
    "movies = read_csv(\"movies\")\n",
    "ratings[\"movie_id\"] = ratings[\"movieId\"].astype(\"category\").cat.codes.copy() + 1\n",
    "\n",
    "def sparse_info(sparse_matrix: csr_matrix):\n",
    "    print(\"Размерности матрицы: {}\".format(sparse_matrix.shape))\n",
    "    print(\"Ненулевых элементов в матрице: {}\".format(sparse_matrix.nnz))\n",
    "    print(\"Доля ненулевых элементов: {}\"\n",
    "          .format(sparse_matrix.nnz / sparse_matrix.shape[0] / sparse_matrix.shape[1])\n",
    "    )\n",
    "    print(\"Среднее значение ненулевых элементов: {}\".format(sparse_matrix.data.mean()))\n",
    "    print(\"Максимальное значение ненулевых элементов: {}\".format(sparse_matrix.data.max()))\n",
    "    print(\"Минимальное значение ненулевых элементов: {}\".format(sparse_matrix.data.min()))\n",
    "\n",
    "last_movie_id = ratings[\"movie_id\"].max()\n",
    "last_user_id = ratings[\"userId\"].max()"
   ]
  },
  {
   "cell_type": "code",
   "execution_count": 5,
   "metadata": {
    "slideshow": {
     "slide_type": "slide"
    }
   },
   "outputs": [
    {
     "name": "stdout",
     "output_type": "stream",
     "text": [
      "самое простое предсказание оценки - это средняя оценка\n",
      "3.54360825567\n"
     ]
    }
   ],
   "source": [
    "mean_rating = ratings[\"rating\"].mean()\n",
    "print(\"самое простое предсказание оценки - это средняя оценка\")\n",
    "print(mean_rating)"
   ]
  },
  {
   "cell_type": "code",
   "execution_count": 6,
   "metadata": {
    "slideshow": {
     "slide_type": "slide"
    }
   },
   "outputs": [
    {
     "name": "stdout",
     "output_type": "stream",
     "text": [
      "Размерности матрицы: (672, 9067)\n",
      "Ненулевых элементов в матрице: 100004\n",
      "Доля ненулевых элементов: 0.01641286822438251\n",
      "Среднее значение ненулевых элементов: -8.544580154534742e-09\n",
      "Максимальное значение ненулевых элементов: 1.45639169216156\n",
      "Минимальное значение ненулевых элементов: -3.0436081886291504\n"
     ]
    }
   ],
   "source": [
    "user_x_item = ratings[[\"userId\", \"movie_id\"]].as_matrix()\n",
    "# здесь уже на пересечении строк и столбцов матрицы стоят не единички\n",
    "# а отклонение оценки от средней оценки\n",
    "user_item_matrix = csr_matrix(\n",
    "    (\n",
    "        (ratings[\"rating\"] - mean_rating).tolist(),\n",
    "        (\n",
    "            [pair[0] for pair in user_x_item],\n",
    "            [pair[1] for pair in user_x_item],\n",
    "        )\n",
    "    ),\n",
    "    shape=(last_user_id + 1, last_movie_id + 1),\n",
    "    dtype=np.float32\n",
    ")\n",
    "\n",
    "sparse_info(user_item_matrix)"
   ]
  },
  {
   "cell_type": "code",
   "execution_count": 17,
   "metadata": {
    "slideshow": {
     "slide_type": "slide"
    }
   },
   "outputs": [
    {
     "name": "stdout",
     "output_type": "stream",
     "text": [
      "Размерности матрицы: (9067, 9067)\n",
      "Ненулевых элементов в матрице: 21983224\n",
      "Доля ненулевых элементов: 0.26740169371818234\n",
      "Среднее значение ненулевых элементов: 0.04221750795841217\n",
      "Максимальное значение ненулевых элементов: 1.0000016689300537\n",
      "Минимальное значение ненулевых элементов: -1.0\n"
     ]
    }
   ],
   "source": [
    "# теперь найдём матрицу схожести между фильмами\n",
    "from sklearn.preprocessing import normalize, binarize\n",
    "\n",
    "def get_cosine_similarity_matrix(user_item_matrix):\n",
    "    # матрицы этого типа быстрее умножаются\n",
    "    user_item_csr = user_item_matrix.tocsr()\n",
    "    # нормализация и последующее умножение эквивалентно нахождению косинуса между столбцами матрицы\n",
    "    user_item_normalized = normalize(user_item_csr, norm='l2', axis=0)\n",
    "    return user_item_normalized.T.dot(user_item_normalized)\n",
    "\n",
    "similarity_matrix = get_cosine_similarity_matrix(user_item_matrix)\n",
    "sparse_info(similarity_matrix)"
   ]
  },
  {
   "cell_type": "code",
   "execution_count": 18,
   "metadata": {
    "slideshow": {
     "slide_type": "slide"
    }
   },
   "outputs": [],
   "source": [
    "from scipy.sparse import vstack, csr_matrix\n",
    "\n",
    "# оставляем только top k схожих элементов (k ближайших соседей)\n",
    "def get_top_k_in_a_row(similarity_matrix, row, k, no_diagonal):\n",
    "    lil_row = similarity_matrix[row]\n",
    "    # каждый фильм очень сильно схож сам с собой, но это бесполезная информация\n",
    "    if no_diagonal:\n",
    "        lil_row[0, row] = 0\n",
    "    csr_row = lil_row.tocsr()\n",
    "    csr_row.data[csr_row.data.argsort()[:-k]] = 0\n",
    "    csr_row.eliminate_zeros()\n",
    "    return csr_row\n",
    "\n",
    "def get_top_k(similarity_matrix, k, no_diagonal=True):\n",
    "    # с матрицами этого типа удобнее всего работать построчно\n",
    "    lil_similarity = similarity_matrix.tolil()\n",
    "    top_k_similarity_matrix = get_top_k_in_a_row(lil_similarity, 0, k, no_diagonal)\n",
    "    for row in range(1, lil_similarity.shape[0]):\n",
    "        if len(lil_similarity.rows[row]) > 0:\n",
    "            csr_row = get_top_k_in_a_row(lil_similarity, row, k, no_diagonal)\n",
    "            top_k_similarity_matrix = vstack([top_k_similarity_matrix, csr_row])\n",
    "    return top_k_similarity_matrix"
   ]
  },
  {
   "cell_type": "code",
   "execution_count": 19,
   "metadata": {
    "slideshow": {
     "slide_type": "fragment"
    }
   },
   "outputs": [
    {
     "name": "stdout",
     "output_type": "stream",
     "text": [
      "ненулевых элементов стало гораздо меньше\n",
      "Размерности матрицы: (9067, 9067)\n",
      "Ненулевых элементов в матрице: 45330\n",
      "Доля ненулевых элементов: 0.0005513894948368449\n",
      "Среднее значение ненулевых элементов: 0.7609193921089172\n",
      "Максимальное значение ненулевых элементов: 1.0\n",
      "Минимальное значение ненулевых элементов: 0.0029404032975435257\n"
     ]
    }
   ],
   "source": [
    "top_k_similarity_matrix = get_top_k(similarity_matrix, 5)\n",
    "del similarity_matrix\n",
    "print(\"ненулевых элементов стало гораздо меньше\")\n",
    "sparse_info(top_k_similarity_matrix)"
   ]
  },
  {
   "cell_type": "code",
   "execution_count": 21,
   "metadata": {
    "slideshow": {
     "slide_type": "slide"
    }
   },
   "outputs": [
    {
     "name": "stdout",
     "output_type": "stream",
     "text": [
      "Размер обучающей выборки: 10000\n",
      "Размер тестовой выборки: 90004\n"
     ]
    }
   ],
   "source": [
    "# выделяем обучающую и тестовую выборки\n",
    "from scipy.sparse import coo_matrix\n",
    "\n",
    "np.random.seed(0)\n",
    "train_percent = 0.1\n",
    "user_item_matrix = user_item_matrix.tocoo()\n",
    "train_split = np.random.choice(\n",
    "    range(user_item_matrix.nnz),\n",
    "    int(user_item_matrix.nnz * train_percent),\n",
    "    replace=False\n",
    ")\n",
    "test_split = list(set(range(user_item_matrix.nnz)) - set(train_split))\n",
    "train_matrix = coo_matrix(\n",
    "    (\n",
    "        user_item_matrix.data[train_split],\n",
    "        (user_item_matrix.row[train_split], user_item_matrix.col[train_split])\n",
    "    ),\n",
    "    shape=user_item_matrix.shape\n",
    ")\n",
    "test_matrix = coo_matrix(\n",
    "    (\n",
    "        user_item_matrix.data[test_split],\n",
    "        (user_item_matrix.row[test_split], user_item_matrix.col[test_split])\n",
    "    ),\n",
    "    shape=user_item_matrix.shape\n",
    ")\n",
    "print(\"Размер обучающей выборки:\", train_matrix.nnz)\n",
    "print(\"Размер тестовой выборки:\", test_matrix.nnz)"
   ]
  },
  {
   "cell_type": "code",
   "execution_count": 22,
   "metadata": {
    "slideshow": {
     "slide_type": "slide"
    }
   },
   "outputs": [
    {
     "name": "stdout",
     "output_type": "stream",
     "text": [
      "точность нашего baseline\n",
      "1.0579\n"
     ]
    }
   ],
   "source": [
    "def RMSE(matrix1: coo_matrix, matrix2: coo_matrix):\n",
    "    return np.sqrt(((matrix1 - matrix2).data ** 2).mean())\n",
    "\n",
    "mean_rating_prediction = 0 * test_matrix\n",
    "print(\"точность нашего baseline\")\n",
    "print(RMSE(mean_rating_prediction, test_matrix))"
   ]
  },
  {
   "cell_type": "code",
   "execution_count": 23,
   "metadata": {
    "slideshow": {
     "slide_type": "slide"
    }
   },
   "outputs": [
    {
     "name": "stdout",
     "output_type": "stream",
     "text": [
      "получили предсказаний всего\n",
      "45330\n"
     ]
    }
   ],
   "source": [
    "# нахождение предсказаний эквивалентно умножению нормированной матрицы схожести на вектор оценок пользователя\n",
    "normalized_similarity = normalize(top_k_similarity_matrix.tocsr(), norm=\"l1\", axis=0)\n",
    "raw_predictions = train_matrix.dot(normalized_similarity).tocoo()\n",
    "print(\"получили предсказаний всего\")\n",
    "print(len(raw_predictions.data))"
   ]
  },
  {
   "cell_type": "code",
   "execution_count": 24,
   "metadata": {
    "slideshow": {
     "slide_type": "slide"
    }
   },
   "outputs": [
    {
     "name": "stdout",
     "output_type": "stream",
     "text": [
      "оставили предсказаний для теста\n",
      "5198\n"
     ]
    }
   ],
   "source": [
    "filtered_predictions = binarize(test_matrix).multiply(raw_predictions)\n",
    "print(\"оставили предсказаний для теста\")\n",
    "print(len(filtered_predictions.data))"
   ]
  },
  {
   "cell_type": "code",
   "execution_count": 25,
   "metadata": {
    "slideshow": {
     "slide_type": "slide"
    }
   },
   "outputs": [
    {
     "name": "stdout",
     "output_type": "stream",
     "text": [
      "1.04981\n"
     ]
    }
   ],
   "source": [
    "print(RMSE(filtered_predictions, test_matrix))"
   ]
  }
 ],
 "metadata": {
  "celltoolbar": "Slideshow",
  "kernelspec": {
   "display_name": "Python 3",
   "language": "python",
   "name": "python3"
  },
  "language_info": {
   "codemirror_mode": {
    "name": "ipython",
    "version": 3
   },
   "file_extension": ".py",
   "mimetype": "text/x-python",
   "name": "python",
   "nbconvert_exporter": "python",
   "pygments_lexer": "ipython3",
   "version": "3.5.2"
  }
 },
 "nbformat": 4,
 "nbformat_minor": 1
}
