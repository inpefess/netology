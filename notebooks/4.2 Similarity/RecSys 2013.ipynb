{
 "cells": [
  {
   "cell_type": "code",
   "execution_count": 9,
   "metadata": {
    "slideshow": {
     "slide_type": "slide"
    }
   },
   "outputs": [],
   "source": [
    "# функции, которые заполняют отображения буквенных id в цифровые\n",
    "\n",
    "def get_id_from_dict(hash_id: str, id_dict: dict):\n",
    "    obj_id = id_dict.get(hash_id)\n",
    "    if obj_id:\n",
    "        return obj_id\n",
    "    obj_id = max(id_dict.values()) + 1\n",
    "    id_dict[hash_id] = obj_id\n",
    "    return obj_id\n",
    "\n",
    "# эти словари мы будем заполнять целочисленными значениями\n",
    "user_index = {\"hash_id\": 0}\n",
    "item_index = {\"hash)id\": 0}"
   ]
  },
  {
   "cell_type": "code",
   "execution_count": 10,
   "metadata": {
    "slideshow": {
     "slide_type": "slide"
    }
   },
   "outputs": [],
   "source": [
    "# преобразуем входные данные из json в csv\n",
    "# и заодно строим индексы\n",
    "import json\n",
    "\n",
    "def json_to_csv(json_filename, csv_filename, has_target):\n",
    "    with open(json_filename, \"r\") as json_file:\n",
    "        with open(csv_filename, \"w\") as csv_file:\n",
    "            if has_target:\n",
    "                csv_file.write(\"user,item,stars\")\n",
    "            else:\n",
    "                csv_file.write(\"user,item\")\n",
    "            for json_line in json_file:\n",
    "                train_json = json.loads(json_line)\n",
    "                user = get_id_from_dict(train_json[\"user_id\"], user_index)\n",
    "                item = get_id_from_dict(train_json[\"business_id\"], item_index)\n",
    "                csv_file.write(\"{},{}\".format(user, item))\n",
    "                if has_target:\n",
    "                    stars = train_json[\"stars\"]\n",
    "                    csv_file.write(\",\" + str(stars))\n",
    "                csv_file.write(\"\\n\")"
   ]
  },
  {
   "cell_type": "code",
   "execution_count": 11,
   "metadata": {
    "slideshow": {
     "slide_type": "slide"
    }
   },
   "outputs": [],
   "source": [
    "from os import path\n",
    "\n",
    "data_dir = \"/home/ubuntu/data/yelp\"\n",
    "train_dir = \"yelp_training_set\"\n",
    "test_dir = \"final_test_set\"\n",
    "json_to_csv(\n",
    "    path.join(data_dir, train_dir, \"yelp_training_set_review.json\"),\n",
    "    path.join(data_dir, \"train.csv\"),\n",
    "    True\n",
    ")\n",
    "json_to_csv(\n",
    "    path.join(data_dir, test_dir, \"final_test_set_review.json\"),\n",
    "    path.join(data_dir, \"test.csv\"),\n",
    "    False\n",
    ")"
   ]
  },
  {
   "cell_type": "code",
   "execution_count": 13,
   "metadata": {
    "slideshow": {
     "slide_type": "slide"
    }
   },
   "outputs": [
    {
     "ename": "KeyError",
     "evalue": "'hash_id'",
     "output_type": "error",
     "traceback": [
      "\u001b[0;31m---------------------------------------------------------------------------\u001b[0m",
      "\u001b[0;31mKeyError\u001b[0m                                  Traceback (most recent call last)",
      "\u001b[0;32m<ipython-input-13-3a97801cc49f>\u001b[0m in \u001b[0;36m<module>\u001b[0;34m()\u001b[0m\n\u001b[1;32m      6\u001b[0m \u001b[0;32mwith\u001b[0m \u001b[0mopen\u001b[0m\u001b[0;34m(\u001b[0m\u001b[0mpath\u001b[0m\u001b[0;34m.\u001b[0m\u001b[0mjoin\u001b[0m\u001b[0;34m(\u001b[0m\u001b[0mdata_dir\u001b[0m\u001b[0;34m,\u001b[0m \u001b[0;34m\"user_index.pkl\"\u001b[0m\u001b[0;34m)\u001b[0m\u001b[0;34m,\u001b[0m \u001b[0;34m\"wb\"\u001b[0m\u001b[0;34m)\u001b[0m \u001b[0;32mas\u001b[0m \u001b[0mf\u001b[0m\u001b[0;34m:\u001b[0m\u001b[0;34m\u001b[0m\u001b[0m\n\u001b[1;32m      7\u001b[0m     \u001b[0mpickle\u001b[0m\u001b[0;34m.\u001b[0m\u001b[0mdump\u001b[0m\u001b[0;34m(\u001b[0m\u001b[0muser_index\u001b[0m\u001b[0;34m,\u001b[0m \u001b[0mf\u001b[0m\u001b[0;34m)\u001b[0m\u001b[0;34m\u001b[0m\u001b[0m\n\u001b[0;32m----> 8\u001b[0;31m \u001b[0;32mdel\u001b[0m \u001b[0mitem_index\u001b[0m\u001b[0;34m[\u001b[0m\u001b[0;34m\"hash_id\"\u001b[0m\u001b[0;34m]\u001b[0m\u001b[0;34m\u001b[0m\u001b[0m\n\u001b[0m\u001b[1;32m      9\u001b[0m \u001b[0;32mwith\u001b[0m \u001b[0mopen\u001b[0m\u001b[0;34m(\u001b[0m\u001b[0mpath\u001b[0m\u001b[0;34m.\u001b[0m\u001b[0mjoin\u001b[0m\u001b[0;34m(\u001b[0m\u001b[0mdata_dir\u001b[0m\u001b[0;34m,\u001b[0m \u001b[0;34m\"item_index.pkl\"\u001b[0m\u001b[0;34m)\u001b[0m\u001b[0;34m,\u001b[0m \u001b[0;34m\"wb\"\u001b[0m\u001b[0;34m)\u001b[0m \u001b[0;32mas\u001b[0m \u001b[0mf\u001b[0m\u001b[0;34m:\u001b[0m\u001b[0;34m\u001b[0m\u001b[0m\n\u001b[1;32m     10\u001b[0m     \u001b[0mpickle\u001b[0m\u001b[0;34m.\u001b[0m\u001b[0mdump\u001b[0m\u001b[0;34m(\u001b[0m\u001b[0mitem_index\u001b[0m\u001b[0;34m,\u001b[0m \u001b[0mf\u001b[0m\u001b[0;34m)\u001b[0m\u001b[0;34m\u001b[0m\u001b[0m\n",
      "\u001b[0;31mKeyError\u001b[0m: 'hash_id'"
     ]
    }
   ],
   "source": [
    "# сохраняем индексы пользователей и контента,\n",
    "# предварительно удалив из них запись-пустышку\n",
    "import pickle\n",
    "\n",
    "del user_index[\"hash_id\"]\n",
    "with open(path.join(data_dir, \"user_index.pkl\"), \"wb\") as f:\n",
    "    pickle.dump(user_index, f)\n",
    "del item_index[\"hash_id\"]\n",
    "with open(path.join(data_dir, \"item_index.pkl\"), \"wb\") as f:\n",
    "    pickle.dump(item_index, f)"
   ]
  },
  {
   "cell_type": "code",
   "execution_count": 14,
   "metadata": {},
   "outputs": [
    {
     "name": "stdout",
     "output_type": "stream",
     "text": [
      "55965 14335\n"
     ]
    }
   ],
   "source": [
    "print(len(user_index), len(item_index))"
   ]
  }
 ],
 "metadata": {
  "celltoolbar": "Slideshow",
  "kernelspec": {
   "display_name": "Python 3",
   "language": "python",
   "name": "python3"
  },
  "language_info": {
   "codemirror_mode": {
    "name": "ipython",
    "version": 3
   },
   "file_extension": ".py",
   "mimetype": "text/x-python",
   "name": "python",
   "nbconvert_exporter": "python",
   "pygments_lexer": "ipython3",
   "version": "3.5.2"
  }
 },
 "nbformat": 4,
 "nbformat_minor": 2
}
