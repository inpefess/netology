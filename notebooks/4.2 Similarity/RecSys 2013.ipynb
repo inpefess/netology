{
 "cells": [
  {
   "cell_type": "code",
   "execution_count": 1,
   "metadata": {
    "slideshow": {
     "slide_type": "slide"
    }
   },
   "outputs": [],
   "source": [
    "user_index = {\"hash\": 0}\n",
    "item_index = {\"hash\": 0}\n",
    "def get_user(user_hash):\n",
    "    user = user_index.get(user_hash)\n",
    "    if user:\n",
    "        return user\n",
    "    user = max(user_index.values()) + 1\n",
    "    user_index[user_hash] = user\n",
    "    return user\n",
    "\n",
    "def get_item(item_hash):\n",
    "    item = item_index.get(item_hash)\n",
    "    if item:\n",
    "        return item\n",
    "    item = max(item_index.values()) + 1\n",
    "    item_index[item_hash] = item\n",
    "    return item"
   ]
  },
  {
   "cell_type": "code",
   "execution_count": 2,
   "metadata": {
    "slideshow": {
     "slide_type": "slide"
    }
   },
   "outputs": [],
   "source": [
    "import json\n",
    "\n",
    "def json_to_csv(json_filename, csv_filename, has_target):\n",
    "    with open(json_filename, \"r\") as json_file:\n",
    "        with open(csv_filename, \"w\") as csv_file:\n",
    "            if has_target:\n",
    "                csv_file.write(\"review_id,user,item,stars\")\n",
    "            else:\n",
    "                csv_file.write(\"review_id,user,item\")\n",
    "            for json_line in json_file:\n",
    "                train_json = json.loads(json_line)\n",
    "                user = get_user(train_json[\"user_id\"])\n",
    "                item = get_item(train_json[\"business_id\"])\n",
    "                review_id = train_json[\"review_id\"]\n",
    "                csv_file.write(\"{},{},{}\".format(review_id, user, item))\n",
    "                if has_target:\n",
    "                    stars = train_json[\"stars\"]\n",
    "                    csv_file.write(\",\" + str(stars))\n",
    "                csv_file.write(\"\\n\")"
   ]
  },
  {
   "cell_type": "code",
   "execution_count": 3,
   "metadata": {
    "slideshow": {
     "slide_type": "slide"
    }
   },
   "outputs": [],
   "source": [
    "from os import path\n",
    "\n",
    "data_dir = \"/vagrant_data\"\n",
    "train_dir = \"yelp_training_set\"\n",
    "test_dir = \"final_test_set\"\n",
    "json_to_csv(\n",
    "    path.join(data_dir, train_dir, \"yelp_training_set_review.json\"),\n",
    "    path.join(data_dir, \"train.csv\"),\n",
    "    True\n",
    ")\n",
    "json_to_csv(\n",
    "    path.join(data_dir, test_dir, \"final_test_set_review.json\"),\n",
    "    path.join(data_dir, \"test.csv\"),\n",
    "    False\n",
    ")"
   ]
  },
  {
   "cell_type": "code",
   "execution_count": 4,
   "metadata": {
    "slideshow": {
     "slide_type": "slide"
    }
   },
   "outputs": [],
   "source": [
    "import pickle\n",
    "\n",
    "del user_index[\"hash\"]\n",
    "with open(path.join(data_dir, \"user_index.pkl\"), \"wb\") as f:\n",
    "    pickle.dump(user_index, f)\n",
    "del item_index[\"hash\"]\n",
    "with open(path.join(data_dir, \"item_index.pkl\"), \"wb\") as f:\n",
    "    pickle.dump(item_index, f)"
   ]
  }
 ],
 "metadata": {
  "celltoolbar": "Slideshow",
  "kernelspec": {
   "display_name": "Python 3",
   "language": "python",
   "name": "python3"
  },
  "language_info": {
   "codemirror_mode": {
    "name": "ipython",
    "version": 3
   },
   "file_extension": ".py",
   "mimetype": "text/x-python",
   "name": "python",
   "nbconvert_exporter": "python",
   "pygments_lexer": "ipython3",
   "version": "3.5.2"
  }
 },
 "nbformat": 4,
 "nbformat_minor": 2
}
