{
 "cells": [
  {
   "cell_type": "code",
   "execution_count": null,
   "metadata": {
    "slideshow": {
     "slide_type": "slide"
    }
   },
   "outputs": [],
   "source": [
    "# загружаем данные\n",
    "from os import path\n",
    "import pandas as pd\n",
    "import numpy as np\n",
    "\n",
    "data_dir = \"/home/ubuntu/data/lastfm/lastfm-dataset-360K\"\n",
    "\n",
    "col_types = {\n",
    "    \"user\": str,\n",
    "    \"artist-mbid\": str,\n",
    "    \"artist-name\": str,\n",
    "    \"total-plays\": str\n",
    "}\n",
    "data = pd.read_csv(\n",
    "    path.join(data_dir, \"usersha1-artmbid-artname-plays.tsv\"),\n",
    "    sep=\"\\t\",\n",
    "    header=None,\n",
    "    names=col_types.keys(),\n",
    "    dtype=col_types\n",
    ")\n",
    "data.head()"
   ]
  },
  {
   "cell_type": "code",
   "execution_count": 3,
   "metadata": {
    "slideshow": {
     "slide_type": "slide"
    }
   },
   "outputs": [
    {
     "data": {
      "text/html": [
       "<div>\n",
       "<style>\n",
       "    .dataframe thead tr:only-child th {\n",
       "        text-align: right;\n",
       "    }\n",
       "\n",
       "    .dataframe thead th {\n",
       "        text-align: left;\n",
       "    }\n",
       "\n",
       "    .dataframe tbody tr th {\n",
       "        vertical-align: top;\n",
       "    }\n",
       "</style>\n",
       "<table border=\"1\" class=\"dataframe\">\n",
       "  <thead>\n",
       "    <tr style=\"text-align: right;\">\n",
       "      <th></th>\n",
       "      <th>total-plays</th>\n",
       "    </tr>\n",
       "  </thead>\n",
       "  <tbody>\n",
       "    <tr>\n",
       "      <th>count</th>\n",
       "      <td>1.753566e+07</td>\n",
       "    </tr>\n",
       "    <tr>\n",
       "      <th>mean</th>\n",
       "      <td>2.151932e+02</td>\n",
       "    </tr>\n",
       "    <tr>\n",
       "      <th>std</th>\n",
       "      <td>6.144815e+02</td>\n",
       "    </tr>\n",
       "    <tr>\n",
       "      <th>min</th>\n",
       "      <td>0.000000e+00</td>\n",
       "    </tr>\n",
       "    <tr>\n",
       "      <th>25%</th>\n",
       "      <td>3.500000e+01</td>\n",
       "    </tr>\n",
       "    <tr>\n",
       "      <th>50%</th>\n",
       "      <td>9.400000e+01</td>\n",
       "    </tr>\n",
       "    <tr>\n",
       "      <th>75%</th>\n",
       "      <td>2.240000e+02</td>\n",
       "    </tr>\n",
       "    <tr>\n",
       "      <th>max</th>\n",
       "      <td>4.191570e+05</td>\n",
       "    </tr>\n",
       "  </tbody>\n",
       "</table>\n",
       "</div>"
      ],
      "text/plain": [
       "        total-plays\n",
       "count  1.753566e+07\n",
       "mean   2.151932e+02\n",
       "std    6.144815e+02\n",
       "min    0.000000e+00\n",
       "25%    3.500000e+01\n",
       "50%    9.400000e+01\n",
       "75%    2.240000e+02\n",
       "max    4.191570e+05"
      ]
     },
     "execution_count": 3,
     "metadata": {},
     "output_type": "execute_result"
    }
   ],
   "source": [
    "data.describe()"
   ]
  },
  {
   "cell_type": "code",
   "execution_count": 4,
   "metadata": {
    "slideshow": {
     "slide_type": "slide"
    }
   },
   "outputs": [
    {
     "data": {
      "text/html": [
       "<div>\n",
       "<style>\n",
       "    .dataframe thead tr:only-child th {\n",
       "        text-align: right;\n",
       "    }\n",
       "\n",
       "    .dataframe thead th {\n",
       "        text-align: left;\n",
       "    }\n",
       "\n",
       "    .dataframe tbody tr th {\n",
       "        vertical-align: top;\n",
       "    }\n",
       "</style>\n",
       "<table border=\"1\" class=\"dataframe\">\n",
       "  <thead>\n",
       "    <tr style=\"text-align: right;\">\n",
       "      <th></th>\n",
       "      <th>total-plays</th>\n",
       "      <th>user_id</th>\n",
       "      <th>artist_id</th>\n",
       "    </tr>\n",
       "  </thead>\n",
       "  <tbody>\n",
       "    <tr>\n",
       "      <th>0</th>\n",
       "      <td>2137</td>\n",
       "      <td>1</td>\n",
       "      <td>37426</td>\n",
       "    </tr>\n",
       "    <tr>\n",
       "      <th>1</th>\n",
       "      <td>1099</td>\n",
       "      <td>1</td>\n",
       "      <td>152041</td>\n",
       "    </tr>\n",
       "    <tr>\n",
       "      <th>2</th>\n",
       "      <td>897</td>\n",
       "      <td>1</td>\n",
       "      <td>112367</td>\n",
       "    </tr>\n",
       "    <tr>\n",
       "      <th>3</th>\n",
       "      <td>717</td>\n",
       "      <td>1</td>\n",
       "      <td>38435</td>\n",
       "    </tr>\n",
       "    <tr>\n",
       "      <th>4</th>\n",
       "      <td>706</td>\n",
       "      <td>1</td>\n",
       "      <td>117444</td>\n",
       "    </tr>\n",
       "  </tbody>\n",
       "</table>\n",
       "</div>"
      ],
      "text/plain": [
       "   total-plays  user_id  artist_id\n",
       "0         2137        1      37426\n",
       "1         1099        1     152041\n",
       "2          897        1     112367\n",
       "3          717        1      38435\n",
       "4          706        1     117444"
      ]
     },
     "execution_count": 4,
     "metadata": {},
     "output_type": "execute_result"
    }
   ],
   "source": [
    "# заполняем пустые значения строкой None\n",
    "data.fillna(\"None\", inplace=True)\n",
    "# заменим строковые идентификаторы числовыми кодами\n",
    "# добавляем к индексам единицы, потому что в mrec,\n",
    "# который будем использовать для оценки качества, индексы начинаются с единицы\n",
    "data[\"user_id\"] = data[\"user\"].astype(\"category\").cat.codes.copy() + 1\n",
    "data[\"artist_id\"] = data[\"artist-mbid\"].astype(\"category\").cat.codes.copy() + 1\n",
    "# убираем лишние колонки\n",
    "data.drop([\"artist-name\", \"artist-mbid\", \"user\"], axis=1, inplace=True)\n",
    "data.head()"
   ]
  },
  {
   "cell_type": "code",
   "execution_count": 5,
   "metadata": {
    "slideshow": {
     "slide_type": "slide"
    }
   },
   "outputs": [],
   "source": [
    "# разобьём наблюдения на тестовую и обучающую выборки\n",
    "test_indices = np.random.choice(data.index.values, replace=False, size=int(data.index.max() * 0.2))\n",
    "test_data = data.iloc[test_indices]\n",
    "train_data = data.drop(test_indices)"
   ]
  },
  {
   "cell_type": "code",
   "execution_count": 6,
   "metadata": {
    "slideshow": {
     "slide_type": "fragment"
    }
   },
   "outputs": [
    {
     "name": "stdout",
     "output_type": "stream",
     "text": [
      "нет в обучающей выборке, но есть в тестовой: 9\n",
      "нет в тестовой выборке, но есть в обучающей: 368\n",
      "всего пользователей: 358868\n"
     ]
    }
   ],
   "source": [
    "test_user_set = set(test_data[\"user_id\"].unique())\n",
    "train_user_set = set(train_data[\"user_id\"].unique())\n",
    "print(\"нет в обучающей выборке, но есть в тестовой: {}\".format(len(test_user_set - train_user_set)))\n",
    "print(\"нет в тестовой выборке, но есть в обучающей: {}\".format(len(train_user_set - test_user_set)))\n",
    "print(\"всего пользователей: {}\".format(len(data[\"user_id\"].unique())))"
   ]
  },
  {
   "cell_type": "code",
   "execution_count": 7,
   "metadata": {
    "slideshow": {
     "slide_type": "fragment"
    }
   },
   "outputs": [
    {
     "name": "stderr",
     "output_type": "stream",
     "text": [
      "/usr/local/lib/python3.6/dist-packages/ipykernel_launcher.py:3: SettingWithCopyWarning: \n",
      "A value is trying to be set on a copy of a slice from a DataFrame\n",
      "\n",
      "See the caveats in the documentation: http://pandas.pydata.org/pandas-docs/stable/indexing.html#indexing-view-versus-copy\n",
      "  This is separate from the ipykernel package so we can avoid doing imports until\n"
     ]
    }
   ],
   "source": [
    "# исключим таких пользователей из тестовой и обучающей выборок\n",
    "user_ids_to_exclude = (test_user_set - train_user_set).union(train_user_set - test_user_set)\n",
    "test_data.drop(test_data[test_data[\"user_id\"].isin(user_ids_to_exclude).values].index, inplace=True)\n",
    "train_data.drop(train_data[train_data[\"user_id\"].isin(user_ids_to_exclude).values].index, inplace=True)"
   ]
  },
  {
   "cell_type": "code",
   "execution_count": 8,
   "metadata": {
    "slideshow": {
     "slide_type": "slide"
    }
   },
   "outputs": [],
   "source": [
    "test_file_name = \"lastfm.test.0\"\n",
    "test_data[[\"user_id\", \"artist_id\", \"total-plays\"]].to_csv(\n",
    "    path.join(data_dir, test_file_name),\n",
    "    sep=\"\\t\",\n",
    "    header=False,\n",
    "    index=False\n",
    ")"
   ]
  },
  {
   "cell_type": "code",
   "execution_count": 9,
   "metadata": {},
   "outputs": [],
   "source": [
    "train_file_name = \"train/lastfm.train.0\"\n",
    "train_data[[\"user_id\", \"artist_id\", \"total-plays\"]].to_csv(\n",
    "    path.join(data_dir, train_file_name),\n",
    "    sep=\"\\t\",\n",
    "    header=False,\n",
    "    index=False\n",
    ")"
   ]
  },
  {
   "cell_type": "code",
   "execution_count": 11,
   "metadata": {
    "slideshow": {
     "slide_type": "slide"
    }
   },
   "outputs": [],
   "source": [
    "# создаём разреженную матрицу user*item\n",
    "from scipy.sparse import coo_matrix\n",
    "import numpy as np\n",
    "\n",
    "plays = coo_matrix((\n",
    "    train_data[\"total-plays\"].astype(np.float32),\n",
    "    (\n",
    "        train_data[\"artist_id\"],\n",
    "        train_data[\"user_id\"]\n",
    "    )\n",
    "))"
   ]
  },
  {
   "cell_type": "code",
   "execution_count": 12,
   "metadata": {
    "slideshow": {
     "slide_type": "slide"
    }
   },
   "outputs": [
    {
     "name": "stdout",
     "output_type": "stream",
     "text": [
      "строим матрицу схожести по косинусной мере\n",
      "построили матрицу схожести по косинусной мере за 6.915686368942261 секунд\n"
     ]
    }
   ],
   "source": [
    "import time\n",
    "from implicit.nearest_neighbours import CosineRecommender\n",
    "\n",
    "model = CosineRecommender()\n",
    "print(\"строим матрицу схожести по косинусной мере\")\n",
    "start = time.time()\n",
    "model.fit(plays)\n",
    "print(\"построили матрицу схожести по косинусной мере за {} секунд\".format(\n",
    "        time.time() - start))"
   ]
  },
  {
   "cell_type": "code",
   "execution_count": 13,
   "metadata": {
    "slideshow": {
     "slide_type": "fragment"
    }
   },
   "outputs": [
    {
     "name": "stdout",
     "output_type": "stream",
     "text": [
      "получаем рекомендации для всех пользователей\n",
      "получили рекомендации для всех пользователей за 305.62073278427124 секнуд\n"
     ]
    }
   ],
   "source": [
    "print(\"получаем рекомендации для всех пользователей\")\n",
    "start = time.time()\n",
    "user_plays = plays.T.tocsr()\n",
    "with open(path.join(data_dir, \"recs\", test_file_name + \".recs.tsv\"), \"w\") as output_file:\n",
    "    for user_id in test_data[\"user_id\"].unique():\n",
    "        for artist_id, score in model.recommend(user_id, user_plays):\n",
    "                output_file.write(\"%s\\t%s\\t%s\\n\" % (user_id, artist_id, score))\n",
    "print(\"получили рекомендации для всех пользователей за {} секнуд\".format(\n",
    "        time.time() - start))"
   ]
  },
  {
   "cell_type": "code",
   "execution_count": 14,
   "metadata": {
    "slideshow": {
     "slide_type": "slide"
    }
   },
   "outputs": [
    {
     "name": "stdout",
     "output_type": "stream",
     "text": [
      "[2017-11-11 14:05:58,258] INFO: processing /home/inpefess/Downloads/lastfm-dataset-360K/lastfm.test.0...\n",
      "None\n",
      "mrr            0.1328 +/- 0.0000\n",
      "prec@5         0.0490 +/- 0.0000\n",
      "prec@10        0.0396 +/- 0.0000\n",
      "prec@15        0.0264 +/- 0.0000\n",
      "prec@20        0.0198 +/- 0.0000\n"
     ]
    }
   ],
   "source": [
    "# используем mrec в качестве метрики качества\n",
    "!DATA_DIR=/home/ubuntu/data/lastfm/lastfm-dataset-360K mrec_evaluate \\\n",
    "    --input_format=tsv --test_input_format=tsv \\\n",
    "    --train $DATA_DIR/lastfm.test.0 \\\n",
    "    --recsdir $DATA_DIR/recs"
   ]
  }
 ],
 "metadata": {
  "celltoolbar": "Slideshow",
  "kernelspec": {
   "display_name": "Python 3",
   "language": "python",
   "name": "python3"
  },
  "language_info": {
   "codemirror_mode": {
    "name": "ipython",
    "version": 3
   },
   "file_extension": ".py",
   "mimetype": "text/x-python",
   "name": "python",
   "nbconvert_exporter": "python",
   "pygments_lexer": "ipython3",
   "version": "3.5.2"
  }
 },
 "nbformat": 4,
 "nbformat_minor": 1
}
