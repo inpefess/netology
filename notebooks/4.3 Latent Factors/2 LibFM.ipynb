{
 "cells": [
  {
   "cell_type": "code",
   "execution_count": 61,
   "metadata": {
    "slideshow": {
     "slide_type": "slide"
    }
   },
   "outputs": [],
   "source": [
    "import os\n",
    "\n",
    "data_dir = \"/home/ubuntu/data/lastfm/lastfm-dataset-360K\"\n",
    "os.environ[\"DATA_DIR\"] = data_dir"
   ]
  },
  {
   "cell_type": "code",
   "execution_count": 149,
   "metadata": {
    "slideshow": {
     "slide_type": "slide"
    }
   },
   "outputs": [],
   "source": [
    "def lastfm_to_libfm(infile: str, outfile: str, outfile2: str) -> None:\n",
    "    with open(os.path.join(data_dir, infile), \"r\") as rf:\n",
    "        with open(os.path.join(data_dir, outfile), \"w\") as wf:\n",
    "            with open(os.path.join(data_dir, outfile2), \"w\") as wf2:\n",
    "                for line in rf:\n",
    "                    arr = line.split(\"\\t\")\n",
    "                    target = 0\n",
    "                    if int(arr[2]) >= 100:\n",
    "                        target = 1\n",
    "                        wf2.write(\"{}\".format(line))\n",
    "                    wf.write(\"{}\\t{}\\t{}\\n\".format(arr[0], arr[1], target))\n",
    "\n",
    "lastfm_to_libfm(\"train/lastfm.train.0\", \"libfm_train\", \"libfm.train.0\")\n",
    "lastfm_to_libfm(\"lastfm.test.0\", \"libfm_test\", \"libfm.test.0\")"
   ]
  },
  {
   "cell_type": "code",
   "execution_count": 127,
   "metadata": {
    "slideshow": {
     "slide_type": "slide"
    }
   },
   "outputs": [
    {
     "name": "stdout",
     "output_type": "stream",
     "text": [
      "1\t15531\t1\r\n",
      "1\t63469\t1\r\n",
      "1\t15968\t1\r\n",
      "1\t48969\t1\r\n",
      "1\t36493\t1\r\n",
      "1\t26332\t1\r\n",
      "1\t8804\t1\r\n",
      "1\t42630\t1\r\n",
      "1\t64575\t1\r\n",
      "1\t32115\t1\r\n"
     ]
    }
   ],
   "source": [
    "!head $DATA_DIR/libfm_train"
   ]
  },
  {
   "cell_type": "code",
   "execution_count": 128,
   "metadata": {
    "slideshow": {
     "slide_type": "slide"
    }
   },
   "outputs": [
    {
     "name": "stdout",
     "output_type": "stream",
     "text": [
      "transforming file /home/ubuntu/data/lastfm/lastfm-dataset-360K/libfm_train to /home/ubuntu/data/lastfm/lastfm-dataset-360K/libfm_train.libfm...\r\n"
     ]
    }
   ],
   "source": [
    "!triple_format_to_libfm \\\n",
    "    -in $DATA_DIR/libfm_train \\\n",
    "    -target 2 \\\n",
    "    -separator \"\\t\""
   ]
  },
  {
   "cell_type": "code",
   "execution_count": 129,
   "metadata": {
    "slideshow": {
     "slide_type": "slide"
    }
   },
   "outputs": [
    {
     "name": "stdout",
     "output_type": "stream",
     "text": [
      "transforming file /home/ubuntu/data/lastfm/lastfm-dataset-360K/libfm_test to /home/ubuntu/data/lastfm/lastfm-dataset-360K/libfm_test.libfm...\r\n"
     ]
    }
   ],
   "source": [
    "!triple_format_to_libfm \\\n",
    "    -in $DATA_DIR/libfm_test \\\n",
    "    -target 2 \\\n",
    "    -separator \"\\t\""
   ]
  },
  {
   "cell_type": "code",
   "execution_count": 130,
   "metadata": {
    "slideshow": {
     "slide_type": "slide"
    }
   },
   "outputs": [
    {
     "name": "stdout",
     "output_type": "stream",
     "text": [
      "1 0:1 1:1\r\n",
      "1 0:1 2:1\r\n",
      "1 0:1 3:1\r\n",
      "1 0:1 4:1\r\n",
      "1 0:1 5:1\r\n",
      "1 0:1 6:1\r\n",
      "1 0:1 7:1\r\n",
      "1 0:1 8:1\r\n",
      "1 0:1 9:1\r\n",
      "1 0:1 10:1\r\n"
     ]
    }
   ],
   "source": [
    "!head $DATA_DIR/libfm_train.libfm"
   ]
  },
  {
   "cell_type": "code",
   "execution_count": 153,
   "metadata": {
    "slideshow": {
     "slide_type": "slide"
    }
   },
   "outputs": [
    {
     "name": "stdout",
     "output_type": "stream",
     "text": [
      "----------------------------------------------------------------------------\n",
      "libFM\n",
      "  Version: 1.4.4\n",
      "  Author:  Steffen Rendle, srendle@libfm.org\n",
      "  WWW:     http://www.libfm.org/\n",
      "This program comes with ABSOLUTELY NO WARRANTY; for details see license.txt.\n",
      "This is free software, and you are welcome to redistribute it under certain\n",
      "conditions; for details see license.txt.\n",
      "----------------------------------------------------------------------------\n",
      "Loading train...\t\n",
      "has x = 0\n",
      "has xt = 1\n",
      "num_rows=799785\tnum_values=1599570\tnum_features=81495\tmin_target=0\tmax_target=1\n",
      "Loading test... \t\n",
      "has x = 0\n",
      "has xt = 1\n",
      "num_rows=200000\tnum_values=400000\tnum_features=52379\tmin_target=0\tmax_target=1\n",
      "#relations: 0\n",
      "Loading meta data...\t\n",
      "#Iter=  0\tTrain=0.817694\tTest=0.501695\tTest(ll)=0.305484\n"
     ]
    }
   ],
   "source": [
    "!libFM \\\n",
    "    -train $DATA_DIR/libfm_train.libfm \\\n",
    "    -test $DATA_DIR/libfm_test.libfm \\\n",
    "    -task c \\\n",
    "    -out $DATA_DIR/recs.libfm \\\n",
    "    -iter 1"
   ]
  },
  {
   "cell_type": "code",
   "execution_count": 154,
   "metadata": {
    "slideshow": {
     "slide_type": "slide"
    }
   },
   "outputs": [
    {
     "name": "stdout",
     "output_type": "stream",
     "text": [
      "0.59476\r\n",
      "0.584219\r\n",
      "0.556064\r\n",
      "0.537367\r\n",
      "0.648803\r\n",
      "0.541951\r\n",
      "0.531945\r\n",
      "0.60628\r\n",
      "0.586736\r\n",
      "0.605348\r\n"
     ]
    }
   ],
   "source": [
    "!head $DATA_DIR/recs.libfm"
   ]
  },
  {
   "cell_type": "code",
   "execution_count": 155,
   "metadata": {
    "slideshow": {
     "slide_type": "slide"
    }
   },
   "outputs": [],
   "source": [
    "!awk -F '\\t' 'BEGIN {OFS = FS} NF{NF-=1};1' <$DATA_DIR/libfm_test >$DATA_DIR/libfm_test.no_target"
   ]
  },
  {
   "cell_type": "code",
   "execution_count": 156,
   "metadata": {
    "slideshow": {
     "slide_type": "slide"
    }
   },
   "outputs": [
    {
     "name": "stdout",
     "output_type": "stream",
     "text": [
      "8631\t55334\r\n",
      "7975\t28244\r\n",
      "15296\t35494\r\n",
      "20417\t63251\r\n",
      "16563\t61228\r\n",
      "11839\t27930\r\n",
      "5150\t64176\r\n",
      "3475\t12769\r\n",
      "12350\t38225\r\n",
      "7890\t43761\r\n"
     ]
    }
   ],
   "source": [
    "!head $DATA_DIR/libfm_test.no_target"
   ]
  },
  {
   "cell_type": "code",
   "execution_count": 157,
   "metadata": {
    "slideshow": {
     "slide_type": "slide"
    }
   },
   "outputs": [],
   "source": [
    "!paste $DATA_DIR/libfm_test.no_target $DATA_DIR/recs.libfm > $DATA_DIR/recs.libfm.pasted"
   ]
  },
  {
   "cell_type": "code",
   "execution_count": 158,
   "metadata": {
    "scrolled": true,
    "slideshow": {
     "slide_type": "slide"
    }
   },
   "outputs": [
    {
     "name": "stdout",
     "output_type": "stream",
     "text": [
      "8631\t55334\t0.59476\r\n",
      "7975\t28244\t0.584219\r\n",
      "15296\t35494\t0.556064\r\n",
      "20417\t63251\t0.537367\r\n",
      "16563\t61228\t0.648803\r\n",
      "11839\t27930\t0.541951\r\n",
      "5150\t64176\t0.531945\r\n",
      "3475\t12769\t0.60628\r\n",
      "12350\t38225\t0.586736\r\n",
      "7890\t43761\t0.605348\r\n"
     ]
    }
   ],
   "source": [
    "!head $DATA_DIR/recs.libfm.pasted"
   ]
  },
  {
   "cell_type": "code",
   "execution_count": 159,
   "metadata": {
    "slideshow": {
     "slide_type": "slide"
    }
   },
   "outputs": [],
   "source": [
    "with open(os.path.join(data_dir, \"recs.libfm.pasted\"), \"r\") as rf:\n",
    "    with open(os.path.join(data_dir, \"recs2/libfm.test.0.recs.tsv\"), \"w\") as wf:\n",
    "        for line in rf:\n",
    "            arr = line.split(\"\\t\")\n",
    "            if float(arr[2]) > 0.5:\n",
    "                target = 1\n",
    "                wf.write(\"{}\".format(line))"
   ]
  },
  {
   "cell_type": "code",
   "execution_count": 160,
   "metadata": {
    "slideshow": {
     "slide_type": "slide"
    }
   },
   "outputs": [
    {
     "name": "stdout",
     "output_type": "stream",
     "text": [
      "[2017-11-19 15:15:51,442] INFO: processing /home/ubuntu/data/lastfm/lastfm-dataset-360K/libfm.test.0...\n",
      "None\n",
      "mrr            0.6174 +/- 0.0000\n",
      "prec@5         0.1235 +/- 0.0000\n",
      "prec@10        0.0617 +/- 0.0000\n",
      "prec@15        0.0412 +/- 0.0000\n",
      "prec@20        0.0309 +/- 0.0000\n"
     ]
    }
   ],
   "source": [
    "# используем mrec в качестве метрики качества\n",
    "!mrec_evaluate \\\n",
    "    --input_format=tsv --test_input_format=tsv \\\n",
    "    --train $DATA_DIR/libfm.test.0 \\\n",
    "    --recsdir $DATA_DIR/recs2"
   ]
  },
  {
   "cell_type": "code",
   "execution_count": null,
   "metadata": {},
   "outputs": [],
   "source": []
  }
 ],
 "metadata": {
  "celltoolbar": "Slideshow",
  "kernelspec": {
   "display_name": "Python 3",
   "language": "python",
   "name": "python3"
  },
  "language_info": {
   "codemirror_mode": {
    "name": "ipython",
    "version": 3
   },
   "file_extension": ".py",
   "mimetype": "text/x-python",
   "name": "python",
   "nbconvert_exporter": "python",
   "pygments_lexer": "ipython3",
   "version": "3.5.2"
  }
 },
 "nbformat": 4,
 "nbformat_minor": 2
}
