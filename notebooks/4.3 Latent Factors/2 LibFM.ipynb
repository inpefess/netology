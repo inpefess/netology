{
 "cells": [
  {
   "cell_type": "code",
   "execution_count": 4,
   "metadata": {},
   "outputs": [
    {
     "name": "stdout",
     "output_type": "stream",
     "text": [
      "1\t37426\t2137\r\n",
      "1\t152041\t1099\r\n",
      "1\t112367\t897\r\n",
      "1\t117444\t706\r\n",
      "1\t87687\t691\r\n",
      "1\t63435\t545\r\n",
      "1\t21203\t507\r\n",
      "1\t3819\t403\r\n",
      "1\t154770\t387\r\n",
      "1\t77340\t361\r\n"
     ]
    }
   ],
   "source": [
    "!head /home/inpefess/Downloads/lastfm-dataset-360K/train/lastfm.train.0"
   ]
  },
  {
   "cell_type": "code",
   "execution_count": 5,
   "metadata": {},
   "outputs": [
    {
     "name": "stdout",
     "output_type": "stream",
     "text": [
      "transforming file /home/inpefess/Downloads/lastfm-dataset-360K/train/lastfm.train.0 to /home/inpefess/Downloads/lastfm-dataset-360K/train/lastfm.train.0.libfm...\r\n"
     ]
    }
   ],
   "source": [
    "!../../../libfm/scripts/triple_format_to_libfm.pl \\\n",
    "    -in /home/inpefess/Downloads/lastfm-dataset-360K/train/lastfm.train.0 \\\n",
    "    -target 2 \\\n",
    "    -separator \"\\t\""
   ]
  },
  {
   "cell_type": "code",
   "execution_count": 6,
   "metadata": {},
   "outputs": [
    {
     "name": "stdout",
     "output_type": "stream",
     "text": [
      "2137 0:1 1:1\r\n",
      "1099 0:1 2:1\r\n",
      "897 0:1 3:1\r\n",
      "706 0:1 4:1\r\n",
      "691 0:1 5:1\r\n",
      "545 0:1 6:1\r\n",
      "507 0:1 7:1\r\n",
      "403 0:1 8:1\r\n",
      "387 0:1 9:1\r\n",
      "361 0:1 10:1\r\n"
     ]
    }
   ],
   "source": [
    "!head /home/inpefess/Downloads/lastfm-dataset-360K/train/lastfm.train.0.libfm"
   ]
  },
  {
   "cell_type": "code",
   "execution_count": 1,
   "metadata": {},
   "outputs": [
    {
     "name": "stdout",
     "output_type": "stream",
     "text": [
      "----------------------------------------------------------------------------\n",
      "libFM\n",
      "  Version: 1.4.4\n",
      "  Author:  Steffen Rendle, srendle@libfm.org\n",
      "  WWW:     http://www.libfm.org/\n",
      "This program comes with ABSOLUTELY NO WARRANTY; for details see license.txt.\n",
      "This is free software, and you are welcome to redistribute it under certain\n",
      "conditions; for details see license.txt.\n",
      "----------------------------------------------------------------------------\n",
      "Loading train...\t\n",
      "has x = 0\n",
      "has xt = 1\n",
      "num_rows=14024836\tnum_values=28049672\tnum_features=510272\tmin_target=0\tmax_target=419157\n",
      "Loading test... \t\n",
      "has x = 0\n",
      "has xt = 1\n",
      "num_rows=3507117\tnum_values=7014234\tnum_features=463074\tmin_target=1\tmax_target=270122\n",
      "#relations: 0\n",
      "Loading meta data...\t\n",
      "#Iter=  0\tTrain=1\tTest=1\tTest(ll)=0.0762187\n"
     ]
    }
   ],
   "source": [
    "!DATA_DIR=/home/inpefess/Downloads/lastfm-dataset-360K && \\\n",
    "../../../libfm/bin/libFM \\\n",
    "    -train $DATA_DIR/train/lastfm.train.0.libfm \\\n",
    "    -test $DATA_DIR/lastfm.test.0.libfm \\\n",
    "    -task c \\\n",
    "    -out $DATA_DIR/recs.libfm \\\n",
    "    -iter 1"
   ]
  },
  {
   "cell_type": "code",
   "execution_count": 4,
   "metadata": {},
   "outputs": [
    {
     "name": "stdout",
     "output_type": "stream",
     "text": [
      "0.853712\r\n",
      "0.829914\r\n",
      "0.832541\r\n",
      "0.883106\r\n",
      "0.84262\r\n",
      "0.834211\r\n",
      "0.82374\r\n",
      "0.819663\r\n",
      "0.847163\r\n",
      "0.829525\r\n"
     ]
    }
   ],
   "source": [
    "!DATA_DIR=/home/inpefess/Downloads/lastfm-dataset-360K && \\\n",
    "head $DATA_DIR/recs.libfm"
   ]
  }
 ],
 "metadata": {
  "kernelspec": {
   "display_name": "Python 3",
   "language": "python",
   "name": "python3"
  },
  "language_info": {
   "codemirror_mode": {
    "name": "ipython",
    "version": 3
   },
   "file_extension": ".py",
   "mimetype": "text/x-python",
   "name": "python",
   "nbconvert_exporter": "python",
   "pygments_lexer": "ipython3",
   "version": "3.6.3"
  }
 },
 "nbformat": 4,
 "nbformat_minor": 2
}
