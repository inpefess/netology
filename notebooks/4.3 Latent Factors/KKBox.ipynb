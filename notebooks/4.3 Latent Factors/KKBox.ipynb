{
 "cells": [
  {
   "cell_type": "code",
   "execution_count": 6,
   "metadata": {
    "slideshow": {
     "slide_type": "slide"
    }
   },
   "outputs": [],
   "source": [
    "import os\n",
    "\n",
    "data_dir = \"/home/ubuntu/data/kkbox\"\n",
    "os.environ[\"DATA_DIR\"] = data_dir\n",
    "os.chdir(data_dir)"
   ]
  },
  {
   "cell_type": "code",
   "execution_count": 7,
   "metadata": {
    "slideshow": {
     "slide_type": "slide"
    }
   },
   "outputs": [
    {
     "name": "stdout",
     "output_type": "stream",
     "text": [
      "id,msno,song_id,source_system_tab,source_screen_name,source_type\r\n",
      "0,V8ruy7SGk7tDm3zA51DPpn6qutt+vmKMBKa21dp54uM=,WmHKgKMlp1lQMecNdNvDMkvIycZYHnFwDT72I5sIssc=,my library,Local playlist more,local-library\r\n",
      "1,V8ruy7SGk7tDm3zA51DPpn6qutt+vmKMBKa21dp54uM=,y/rsZ9DC7FwK5F2PK2D5mj+aOBUJAjuu3dZ14NgE0vM=,my library,Local playlist more,local-library\r\n",
      "2,/uQAlrAkaczV+nWCd2sPF2ekvXPRipV7q0l+gbLuxjw=,8eZLFOdGVdXBSqoAv5nsLigeH2BvKXzTQYtUM53I0k4=,discover,,song-based-playlist\r\n",
      "3,1a6oo/iXKatxQx4eS9zTVD+KlSVaAFbTIqVvwLC1Y0k=,ztCf8thYsS4YN3GcIL/bvoxLm/T5mYBVKOO4C9NiVfQ=,radio,Radio,radio\r\n",
      "4,1a6oo/iXKatxQx4eS9zTVD+KlSVaAFbTIqVvwLC1Y0k=,MKVMpslKcQhMaFEgcEQhEfi5+RZhMYlU3eRDpySrH8Y=,radio,Radio,radio\r\n",
      "5,1a6oo/iXKatxQx4eS9zTVD+KlSVaAFbTIqVvwLC1Y0k=,NV3nhEcMqsawwvSNTUAt9IVAexHLOm0lDfrHyEfN5B0=,radio,Radio,radio\r\n",
      "6,1a6oo/iXKatxQx4eS9zTVD+KlSVaAFbTIqVvwLC1Y0k=,DPM6G9RB5QO2dvAVPyc70gxHdvu872IjTUvV6LJT8ho=,radio,Radio,radio\r\n",
      "7,1a6oo/iXKatxQx4eS9zTVD+KlSVaAFbTIqVvwLC1Y0k=,JGXB3PHc0CX0JskwwjmYP8i318BLo7DhChgEj6Yqjt8=,my library,Local playlist more,local-playlist\r\n",
      "8,1a6oo/iXKatxQx4eS9zTVD+KlSVaAFbTIqVvwLC1Y0k=,507plIkmke1jh3wMrHqKore82pPFozADwydR8P0Gx2Q=,radio,Radio,radio\r\n"
     ]
    }
   ],
   "source": [
    "!head test.csv"
   ]
  },
  {
   "cell_type": "code",
   "execution_count": 21,
   "metadata": {
    "slideshow": {
     "slide_type": "slide"
    }
   },
   "outputs": [],
   "source": [
    "!cut -d \",\" -f 2,3 test.csv | sed \"s/,/\\t/g\" > libfm_test"
   ]
  },
  {
   "cell_type": "code",
   "execution_count": 22,
   "metadata": {
    "slideshow": {
     "slide_type": "slide"
    }
   },
   "outputs": [],
   "source": [
    "!cut -d \",\" -f 1,2,6 train.csv | sed \"s/,/\\t/g\" > libfm_train"
   ]
  },
  {
   "cell_type": "code",
   "execution_count": 23,
   "metadata": {
    "slideshow": {
     "slide_type": "slide"
    }
   },
   "outputs": [
    {
     "name": "stdout",
     "output_type": "stream",
     "text": [
      "msno\tsong_id\ttarget\r\n",
      "FGtllVqz18RPiwJj/edr2gV78zirAiY/9SmYvia+kCg=\tBBzumQNXUHKdEBOB7mAJuzok+IJA1c2Ryg/yzTF6tik=\t1\r\n",
      "Xumu+NIjS6QYVxDS4/t3SawvJ7viT9hPKXmf0RtLNx8=\tbhp/MpSNoqoxOIB+/l8WPqu6jldth4DIpCm3ayXnJqM=\t1\r\n",
      "Xumu+NIjS6QYVxDS4/t3SawvJ7viT9hPKXmf0RtLNx8=\tJNWfrrC7zNN7BdMpsISKa4Mw+xVJYNnxXh3/Epw7QgY=\t1\r\n",
      "Xumu+NIjS6QYVxDS4/t3SawvJ7viT9hPKXmf0RtLNx8=\t2A87tzfnJTSWqD7gIZHisolhe4DMdzkbd6LzO1KHjNs=\t1\r\n",
      "FGtllVqz18RPiwJj/edr2gV78zirAiY/9SmYvia+kCg=\t3qm6XTZ6MOCU11x8FIVbAGH5l5uMkT3/ZalWG1oo2Gc=\t1\r\n",
      "FGtllVqz18RPiwJj/edr2gV78zirAiY/9SmYvia+kCg=\t3Hg5kugV1S0wzEVLAEfqjIV5UHzb7bCrdBRQlGygLvU=\t1\r\n",
      "Xumu+NIjS6QYVxDS4/t3SawvJ7viT9hPKXmf0RtLNx8=\tVkILU0H1h3NMmk9MQrXouNudGk5n8Ls5cqRRuBxeTh4=\t1\r\n",
      "FGtllVqz18RPiwJj/edr2gV78zirAiY/9SmYvia+kCg=\tbPIvRTzfHxH5LgHrStll+tYwSQNVV8PySgA3M1PfTgc=\t1\r\n",
      "uHqAtShXTRXju5GE8ri3ITsVFepPf8jUoCF7ffNOuqE=\t/bU6IRSK+YNlNbaTkxo7bhsb2EDLPrnksdX3ggcZNhI=\t1\r\n"
     ]
    }
   ],
   "source": [
    "!head libfm_train"
   ]
  },
  {
   "cell_type": "code",
   "execution_count": 30,
   "metadata": {
    "slideshow": {
     "slide_type": "slide"
    }
   },
   "outputs": [],
   "source": [
    "!cut -f 3 libfm_train > libfm_train.target"
   ]
  },
  {
   "cell_type": "code",
   "execution_count": 31,
   "metadata": {
    "slideshow": {
     "slide_type": "slide"
    }
   },
   "outputs": [
    {
     "name": "stdout",
     "output_type": "stream",
     "text": [
      "target\r\n",
      "1\r\n",
      "1\r\n",
      "1\r\n",
      "1\r\n",
      "1\r\n",
      "1\r\n",
      "1\r\n",
      "1\r\n",
      "1\r\n"
     ]
    }
   ],
   "source": [
    "!head libfm_train.target"
   ]
  },
  {
   "cell_type": "code",
   "execution_count": 32,
   "metadata": {
    "slideshow": {
     "slide_type": "slide"
    }
   },
   "outputs": [
    {
     "name": "stdout",
     "output_type": "stream",
     "text": [
      "  2556791   5113582 230111113 libfm_test\r\n"
     ]
    }
   ],
   "source": [
    "!wc libfm_test"
   ]
  },
  {
   "cell_type": "code",
   "execution_count": 33,
   "metadata": {
    "slideshow": {
     "slide_type": "slide"
    }
   },
   "outputs": [],
   "source": [
    "!head -2556791 libfm_train.target > libfm_test.target"
   ]
  },
  {
   "cell_type": "code",
   "execution_count": 36,
   "metadata": {
    "slideshow": {
     "slide_type": "slide"
    }
   },
   "outputs": [],
   "source": [
    "!paste libfm_test libfm_test.target | tail -n +2 > libfm_test.with_target"
   ]
  },
  {
   "cell_type": "code",
   "execution_count": 39,
   "metadata": {
    "slideshow": {
     "slide_type": "slide"
    }
   },
   "outputs": [
    {
     "name": "stdout",
     "output_type": "stream",
     "text": [
      "V8ruy7SGk7tDm3zA51DPpn6qutt+vmKMBKa21dp54uM=\tWmHKgKMlp1lQMecNdNvDMkvIycZYHnFwDT72I5sIssc=\t1\r\n",
      "V8ruy7SGk7tDm3zA51DPpn6qutt+vmKMBKa21dp54uM=\ty/rsZ9DC7FwK5F2PK2D5mj+aOBUJAjuu3dZ14NgE0vM=\t1\r\n",
      "/uQAlrAkaczV+nWCd2sPF2ekvXPRipV7q0l+gbLuxjw=\t8eZLFOdGVdXBSqoAv5nsLigeH2BvKXzTQYtUM53I0k4=\t1\r\n",
      "1a6oo/iXKatxQx4eS9zTVD+KlSVaAFbTIqVvwLC1Y0k=\tztCf8thYsS4YN3GcIL/bvoxLm/T5mYBVKOO4C9NiVfQ=\t1\r\n",
      "1a6oo/iXKatxQx4eS9zTVD+KlSVaAFbTIqVvwLC1Y0k=\tMKVMpslKcQhMaFEgcEQhEfi5+RZhMYlU3eRDpySrH8Y=\t1\r\n",
      "1a6oo/iXKatxQx4eS9zTVD+KlSVaAFbTIqVvwLC1Y0k=\tNV3nhEcMqsawwvSNTUAt9IVAexHLOm0lDfrHyEfN5B0=\t1\r\n",
      "1a6oo/iXKatxQx4eS9zTVD+KlSVaAFbTIqVvwLC1Y0k=\tDPM6G9RB5QO2dvAVPyc70gxHdvu872IjTUvV6LJT8ho=\t1\r\n",
      "1a6oo/iXKatxQx4eS9zTVD+KlSVaAFbTIqVvwLC1Y0k=\tJGXB3PHc0CX0JskwwjmYP8i318BLo7DhChgEj6Yqjt8=\t1\r\n",
      "1a6oo/iXKatxQx4eS9zTVD+KlSVaAFbTIqVvwLC1Y0k=\t507plIkmke1jh3wMrHqKore82pPFozADwydR8P0Gx2Q=\t1\r\n",
      "3ZQ6oGfcSiUoCrtBPKGa8hHCiFh5jqtDqPVDUl/zrjU=\tHsgJXv1C7iVZiP7CWwWTfsmMhia6Huc0MUccfj+D02o=\t1\r\n"
     ]
    }
   ],
   "source": [
    "!head libfm_test.with_target"
   ]
  },
  {
   "cell_type": "code",
   "execution_count": 40,
   "metadata": {
    "slideshow": {
     "slide_type": "slide"
    }
   },
   "outputs": [],
   "source": [
    "!paste libfm_train libfm_test.with_target | tail -n +2 > libfm_all"
   ]
  },
  {
   "cell_type": "code",
   "execution_count": 42,
   "metadata": {
    "slideshow": {
     "slide_type": "slide"
    }
   },
   "outputs": [
    {
     "name": "stdout",
     "output_type": "stream",
     "text": [
      "transforming file libfm_all to libfm_all.libfm...\r\n"
     ]
    }
   ],
   "source": [
    "!triple_format_to_libfm \\\n",
    "    -in libfm_all \\\n",
    "    -target 2 \\\n",
    "    -separator \"\\t\""
   ]
  },
  {
   "cell_type": "code",
   "execution_count": 45,
   "metadata": {
    "slideshow": {
     "slide_type": "slide"
    }
   },
   "outputs": [],
   "source": [
    "!tail -2556790 libfm_all.libfm > libfm_final.test"
   ]
  },
  {
   "cell_type": "code",
   "execution_count": 46,
   "metadata": {
    "slideshow": {
     "slide_type": "slide"
    }
   },
   "outputs": [
    {
     "name": "stdout",
     "output_type": "stream",
     "text": [
      "  7377419  22132257 678722476 libfm_train\r\n"
     ]
    }
   ],
   "source": [
    "!wc libfm_train"
   ]
  },
  {
   "cell_type": "code",
   "execution_count": 47,
   "metadata": {
    "slideshow": {
     "slide_type": "slide"
    }
   },
   "outputs": [],
   "source": [
    "!head -7377418 libfm_all.libfm > libfm_final.train"
   ]
  },
  {
   "cell_type": "code",
   "execution_count": 49,
   "metadata": {
    "slideshow": {
     "slide_type": "slide"
    }
   },
   "outputs": [
    {
     "name": "stdout",
     "output_type": "stream",
     "text": [
      "1 0:1 1:1 2:1 3:1 4:1\r\n",
      "1 5:1 6:1 7:1 8:1 4:1\r\n",
      "1 5:1 9:1 10:1 11:1 4:1\r\n",
      "1 5:1 12:1 10:1 13:1 4:1\r\n",
      "1 0:1 14:1 10:1 15:1 4:1\r\n",
      "1 0:1 16:1 10:1 17:1 4:1\r\n",
      "1 5:1 18:1 10:1 19:1 4:1\r\n",
      "1 0:1 20:1 10:1 21:1 4:1\r\n",
      "1 22:1 23:1 24:1 25:1 4:1\r\n",
      "1 22:1 26:1 27:1 28:1 4:1\r\n"
     ]
    }
   ],
   "source": [
    "!head libfm_final.train"
   ]
  },
  {
   "cell_type": "code",
   "execution_count": 58,
   "metadata": {
    "slideshow": {
     "slide_type": "slide"
    }
   },
   "outputs": [
    {
     "name": "stdout",
     "output_type": "stream",
     "text": [
      "----------------------------------------------------------------------------\n",
      "libFM\n",
      "  Version: 1.4.4\n",
      "  Author:  Steffen Rendle, srendle@libfm.org\n",
      "  WWW:     http://www.libfm.org/\n",
      "This program comes with ABSOLUTELY NO WARRANTY; for details see license.txt.\n",
      "This is free software, and you are welcome to redistribute it under certain\n",
      "conditions; for details see license.txt.\n",
      "----------------------------------------------------------------------------\n",
      "Loading train...\t\n",
      "has x = 0\n",
      "has xt = 1\n",
      "num_rows=7377418\tnum_values=22425203\tnum_features=640607\tmin_target=0\tmax_target=1\n",
      "Loading test... \t\n",
      "has x = 0\n",
      "has xt = 1\n",
      "num_rows=2556790\tnum_values=5113580\tnum_features=640607\tmin_target=0\tmax_target=1\n",
      "#relations: 0\n",
      "Loading meta data...\t\n",
      "#Iter=  0\tTrain=0.679505\tTest=0.654155\tTest(ll)=0.274945\n",
      "#Iter=  1\tTrain=0.683387\tTest=0.657879\tTest(ll)=0.273126\n",
      "#Iter=  2\tTrain=0.687166\tTest=0.660335\tTest(ll)=0.271717\n",
      "#Iter=  3\tTrain=0.690903\tTest=0.662823\tTest(ll)=0.27044\n",
      "#Iter=  4\tTrain=0.694492\tTest=0.665276\tTest(ll)=0.269213\n",
      "#Iter=  5\tTrain=0.697289\tTest=0.66749\tTest(ll)=0.26806\n",
      "#Iter=  6\tTrain=0.699979\tTest=0.669556\tTest(ll)=0.266986\n",
      "#Iter=  7\tTrain=0.702108\tTest=0.671502\tTest(ll)=0.266001\n",
      "#Iter=  8\tTrain=0.703659\tTest=0.673297\tTest(ll)=0.265095\n",
      "#Iter=  9\tTrain=0.705012\tTest=0.67477\tTest(ll)=0.264272\n",
      "#Iter= 10\tTrain=0.70613\tTest=0.676071\tTest(ll)=0.263533\n",
      "#Iter= 11\tTrain=0.707337\tTest=0.677246\tTest(ll)=0.262851\n",
      "#Iter= 12\tTrain=0.708417\tTest=0.678459\tTest(ll)=0.262217\n",
      "#Iter= 13\tTrain=0.709207\tTest=0.679428\tTest(ll)=0.261633\n",
      "#Iter= 14\tTrain=0.71018\tTest=0.680365\tTest(ll)=0.261095\n",
      "#Iter= 15\tTrain=0.710922\tTest=0.681285\tTest(ll)=0.260585\n",
      "#Iter= 16\tTrain=0.711567\tTest=0.682076\tTest(ll)=0.260108\n",
      "#Iter= 17\tTrain=0.712392\tTest=0.682877\tTest(ll)=0.259658\n",
      "#Iter= 18\tTrain=0.712986\tTest=0.683562\tTest(ll)=0.259232\n",
      "#Iter= 19\tTrain=0.713552\tTest=0.68427\tTest(ll)=0.258824\n",
      "#Iter= 20\tTrain=0.714053\tTest=0.684912\tTest(ll)=0.258436\n",
      "#Iter= 21\tTrain=0.714713\tTest=0.685582\tTest(ll)=0.258061\n",
      "#Iter= 22\tTrain=0.715309\tTest=0.686275\tTest(ll)=0.257698\n",
      "#Iter= 23\tTrain=0.715938\tTest=0.68691\tTest(ll)=0.257346\n",
      "#Iter= 24\tTrain=0.716354\tTest=0.687493\tTest(ll)=0.25701\n",
      "#Iter= 25\tTrain=0.716847\tTest=0.688112\tTest(ll)=0.256684\n",
      "#Iter= 26\tTrain=0.717476\tTest=0.688723\tTest(ll)=0.256366\n",
      "#Iter= 27\tTrain=0.718062\tTest=0.689278\tTest(ll)=0.256058\n",
      "#Iter= 28\tTrain=0.718614\tTest=0.689784\tTest(ll)=0.255758\n",
      "#Iter= 29\tTrain=0.718877\tTest=0.690264\tTest(ll)=0.255465\n",
      "#Iter= 30\tTrain=0.719485\tTest=0.690738\tTest(ll)=0.255181\n",
      "#Iter= 31\tTrain=0.719844\tTest=0.691256\tTest(ll)=0.254903\n",
      "#Iter= 32\tTrain=0.720477\tTest=0.69183\tTest(ll)=0.254629\n",
      "#Iter= 33\tTrain=0.720761\tTest=0.692282\tTest(ll)=0.254364\n",
      "#Iter= 34\tTrain=0.721135\tTest=0.692786\tTest(ll)=0.254104\n",
      "#Iter= 35\tTrain=0.721493\tTest=0.693247\tTest(ll)=0.25385\n",
      "#Iter= 36\tTrain=0.721914\tTest=0.693674\tTest(ll)=0.2536\n",
      "#Iter= 37\tTrain=0.722208\tTest=0.694141\tTest(ll)=0.253355\n",
      "#Iter= 38\tTrain=0.722747\tTest=0.69461\tTest(ll)=0.253115\n",
      "#Iter= 39\tTrain=0.7231\tTest=0.695043\tTest(ll)=0.252879\n",
      "#Iter= 40\tTrain=0.723176\tTest=0.695473\tTest(ll)=0.252648\n",
      "#Iter= 41\tTrain=0.723662\tTest=0.695881\tTest(ll)=0.252421\n",
      "#Iter= 42\tTrain=0.723898\tTest=0.696323\tTest(ll)=0.2522\n",
      "#Iter= 43\tTrain=0.724364\tTest=0.696729\tTest(ll)=0.251983\n",
      "#Iter= 44\tTrain=0.724448\tTest=0.697147\tTest(ll)=0.25177\n",
      "#Iter= 45\tTrain=0.724763\tTest=0.697534\tTest(ll)=0.251562\n",
      "#Iter= 46\tTrain=0.725003\tTest=0.697891\tTest(ll)=0.251361\n",
      "#Iter= 47\tTrain=0.725167\tTest=0.698215\tTest(ll)=0.251164\n",
      "#Iter= 48\tTrain=0.725359\tTest=0.698615\tTest(ll)=0.250969\n",
      "#Iter= 49\tTrain=0.725558\tTest=0.698991\tTest(ll)=0.250774\n",
      "#Iter= 50\tTrain=0.726193\tTest=0.699326\tTest(ll)=0.250586\n",
      "#Iter= 51\tTrain=0.72642\tTest=0.699639\tTest(ll)=0.250402\n",
      "#Iter= 52\tTrain=0.726502\tTest=0.699986\tTest(ll)=0.250223\n",
      "#Iter= 53\tTrain=0.726767\tTest=0.700232\tTest(ll)=0.250048\n",
      "#Iter= 54\tTrain=0.726936\tTest=0.700609\tTest(ll)=0.249878\n",
      "#Iter= 55\tTrain=0.726925\tTest=0.700897\tTest(ll)=0.24971\n",
      "#Iter= 56\tTrain=0.727339\tTest=0.701185\tTest(ll)=0.249544\n",
      "#Iter= 57\tTrain=0.727319\tTest=0.701545\tTest(ll)=0.249383\n",
      "#Iter= 58\tTrain=0.72749\tTest=0.701839\tTest(ll)=0.249225\n",
      "#Iter= 59\tTrain=0.727873\tTest=0.702104\tTest(ll)=0.24907\n",
      "#Iter= 60\tTrain=0.727892\tTest=0.702398\tTest(ll)=0.248919\n",
      "#Iter= 61\tTrain=0.728243\tTest=0.702683\tTest(ll)=0.24877\n",
      "#Iter= 62\tTrain=0.728683\tTest=0.702922\tTest(ll)=0.248625\n",
      "#Iter= 63\tTrain=0.728552\tTest=0.703227\tTest(ll)=0.248482\n",
      "#Iter= 64\tTrain=0.728495\tTest=0.703488\tTest(ll)=0.248341\n",
      "#Iter= 65\tTrain=0.72867\tTest=0.703706\tTest(ll)=0.248202\n",
      "#Iter= 66\tTrain=0.728909\tTest=0.703945\tTest(ll)=0.248065\n",
      "#Iter= 67\tTrain=0.729038\tTest=0.704155\tTest(ll)=0.24793\n",
      "#Iter= 68\tTrain=0.729086\tTest=0.704389\tTest(ll)=0.247799\n",
      "#Iter= 69\tTrain=0.729172\tTest=0.704626\tTest(ll)=0.247672\n",
      "#Iter= 70\tTrain=0.729486\tTest=0.704836\tTest(ll)=0.247546\n",
      "#Iter= 71\tTrain=0.729527\tTest=0.705081\tTest(ll)=0.247424\n",
      "#Iter= 72\tTrain=0.729705\tTest=0.705314\tTest(ll)=0.247303\n",
      "#Iter= 73\tTrain=0.729731\tTest=0.705494\tTest(ll)=0.247185\n",
      "#Iter= 74\tTrain=0.729938\tTest=0.705699\tTest(ll)=0.247069\n",
      "#Iter= 75\tTrain=0.730051\tTest=0.705907\tTest(ll)=0.246953\n",
      "#Iter= 76\tTrain=0.730123\tTest=0.706108\tTest(ll)=0.246841\n",
      "#Iter= 77\tTrain=0.730288\tTest=0.706343\tTest(ll)=0.24673\n",
      "#Iter= 78\tTrain=0.730274\tTest=0.706504\tTest(ll)=0.246621\n",
      "#Iter= 79\tTrain=0.730454\tTest=0.706656\tTest(ll)=0.246515\n",
      "#Iter= 80\tTrain=0.730503\tTest=0.706829\tTest(ll)=0.246409\n",
      "#Iter= 81\tTrain=0.730571\tTest=0.707007\tTest(ll)=0.246306\n",
      "#Iter= 82\tTrain=0.730753\tTest=0.707184\tTest(ll)=0.246205\n",
      "#Iter= 83\tTrain=0.730717\tTest=0.707379\tTest(ll)=0.246106\n",
      "#Iter= 84\tTrain=0.730852\tTest=0.70757\tTest(ll)=0.24601\n",
      "#Iter= 85\tTrain=0.730906\tTest=0.707766\tTest(ll)=0.245915\n",
      "#Iter= 86\tTrain=0.730826\tTest=0.707928\tTest(ll)=0.245822\n",
      "#Iter= 87\tTrain=0.730927\tTest=0.708064\tTest(ll)=0.245732\n",
      "#Iter= 88\tTrain=0.731018\tTest=0.708221\tTest(ll)=0.245643\n",
      "#Iter= 89\tTrain=0.731009\tTest=0.708375\tTest(ll)=0.245555\n",
      "#Iter= 90\tTrain=0.731132\tTest=0.708491\tTest(ll)=0.245467\n",
      "#Iter= 91\tTrain=0.731279\tTest=0.708645\tTest(ll)=0.245382\n",
      "#Iter= 92\tTrain=0.731208\tTest=0.708767\tTest(ll)=0.245298\n",
      "#Iter= 93\tTrain=0.731214\tTest=0.708968\tTest(ll)=0.245215\n",
      "#Iter= 94\tTrain=0.731302\tTest=0.709143\tTest(ll)=0.245132\n",
      "#Iter= 95\tTrain=0.731343\tTest=0.709265\tTest(ll)=0.24505\n",
      "#Iter= 96\tTrain=0.731723\tTest=0.709413\tTest(ll)=0.24497\n",
      "#Iter= 97\tTrain=0.731554\tTest=0.709525\tTest(ll)=0.244893\n",
      "#Iter= 98\tTrain=0.731672\tTest=0.709616\tTest(ll)=0.244816\n",
      "#Iter= 99\tTrain=0.73169\tTest=0.709751\tTest(ll)=0.244741\n"
     ]
    }
   ],
   "source": [
    "!libFM \\\n",
    "    -train libfm_final.train \\\n",
    "    -test libfm_final.test \\\n",
    "    -task c \\\n",
    "    -out libfm_final.recs \\\n",
    "    -iter 100"
   ]
  },
  {
   "cell_type": "code",
   "execution_count": 59,
   "metadata": {
    "slideshow": {
     "slide_type": "slide"
    }
   },
   "outputs": [
    {
     "name": "stdout",
     "output_type": "stream",
     "text": [
      "0.292985\r\n",
      "0.345926\r\n",
      "0.482351\r\n",
      "0.352707\r\n",
      "0.32927\r\n",
      "0.416021\r\n",
      "0.431351\r\n",
      "0.397834\r\n",
      "0.406281\r\n",
      "0.418218\r\n"
     ]
    }
   ],
   "source": [
    "!head libfm_final.recs"
   ]
  },
  {
   "cell_type": "code",
   "execution_count": 60,
   "metadata": {
    "slideshow": {
     "slide_type": "slide"
    }
   },
   "outputs": [],
   "source": [
    "!cut -d \",\" -f 1 test.csv > test_ids"
   ]
  },
  {
   "cell_type": "code",
   "execution_count": 61,
   "metadata": {
    "slideshow": {
     "slide_type": "slide"
    }
   },
   "outputs": [],
   "source": [
    "!echo \"target\" | cat - libfm_final.recs | paste test_ids - | sed \"s/\\t/,/g\" > submission.csv"
   ]
  },
  {
   "cell_type": "code",
   "execution_count": 62,
   "metadata": {
    "slideshow": {
     "slide_type": "slide"
    }
   },
   "outputs": [
    {
     "name": "stdout",
     "output_type": "stream",
     "text": [
      "id,target\r\n",
      "0,0.292985\r\n",
      "1,0.345926\r\n",
      "2,0.482351\r\n",
      "3,0.352707\r\n",
      "4,0.32927\r\n",
      "5,0.416021\r\n",
      "6,0.431351\r\n",
      "7,0.397834\r\n",
      "8,0.406281\r\n"
     ]
    }
   ],
   "source": [
    "!head submission.csv"
   ]
  }
 ],
 "metadata": {
  "celltoolbar": "Slideshow",
  "kernelspec": {
   "display_name": "Python 3",
   "language": "python",
   "name": "python3"
  },
  "language_info": {
   "codemirror_mode": {
    "name": "ipython",
    "version": 3
   },
   "file_extension": ".py",
   "mimetype": "text/x-python",
   "name": "python",
   "nbconvert_exporter": "python",
   "pygments_lexer": "ipython3",
   "version": "3.5.2"
  }
 },
 "nbformat": 4,
 "nbformat_minor": 2
}
