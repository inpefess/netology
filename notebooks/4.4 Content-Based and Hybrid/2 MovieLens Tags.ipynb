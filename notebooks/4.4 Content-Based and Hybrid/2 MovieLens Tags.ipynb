{
 "cells": [
  {
   "cell_type": "code",
   "execution_count": 47,
   "metadata": {
    "slideshow": {
     "slide_type": "slide"
    }
   },
   "outputs": [],
   "source": [
    "# считывает MovieLens\n",
    "from os import path\n",
    "import pandas as pd\n",
    "import numpy as np\n",
    "\n",
    "data_dir = \"/home/ubuntu/data/movielens/ml-latest-small\"\n",
    "\n",
    "def read_csv(filename: str):\n",
    "    data = pd.read_csv(path.join(data_dir, filename + \".csv\"))\n",
    "    return data\n",
    "\n",
    "ratings = read_csv(\"ratings\")\n",
    "movies = read_csv(\"movies\")"
   ]
  },
  {
   "cell_type": "code",
   "execution_count": 48,
   "metadata": {
    "slideshow": {
     "slide_type": "slide"
    }
   },
   "outputs": [],
   "source": [
    "# перекодируем id с пробелами в плотные\n",
    "ratings[\"movie_id\"] = ratings[\"movieId\"].astype(\"category\").cat.codes.copy()\n",
    "ratings[\"user_id\"] = ratings[\"userId\"].astype(\"category\").cat.codes.copy()\n",
    "last_movie_id = ratings[\"movie_id\"].max()\n",
    "last_user_id = ratings[\"user_id\"].max()"
   ]
  },
  {
   "cell_type": "code",
   "execution_count": 49,
   "metadata": {
    "slideshow": {
     "slide_type": "slide"
    }
   },
   "outputs": [],
   "source": [
    "# функция, которая красиво печатает информацию о разреженных матрицах\n",
    "from scipy.sparse import csr_matrix\n",
    "\n",
    "def sparse_info(sparse_matrix: csr_matrix) -> None:\n",
    "    print(\"Размерности матрицы: {}\".format(sparse_matrix.shape))\n",
    "    print(\"Ненулевых элементов в матрице: {}\".format(sparse_matrix.nnz))\n",
    "    print(\"Доля ненулевых элементов: {}\"\n",
    "          .format(sparse_matrix.nnz / sparse_matrix.shape[0] / sparse_matrix.shape[1])\n",
    "    )\n",
    "    print(\"Среднее значение ненулевых элементов: {}\".format(sparse_matrix.data.mean()))\n",
    "    print(\"Максимальное значение ненулевых элементов: {}\".format(sparse_matrix.data.max()))\n",
    "    print(\"Минимальное значение ненулевых элементов: {}\".format(sparse_matrix.data.min()))"
   ]
  },
  {
   "cell_type": "code",
   "execution_count": 50,
   "metadata": {
    "slideshow": {
     "slide_type": "slide"
    }
   },
   "outputs": [
    {
     "name": "stdout",
     "output_type": "stream",
     "text": [
      "Размерности матрицы: (671, 9066)\n",
      "Ненулевых элементов в матрице: 100004\n",
      "Доля ненулевых элементов: 0.016439141608663475\n",
      "Среднее значение ненулевых элементов: 0.5156593918800354\n",
      "Максимальное значение ненулевых элементов: 1.0\n",
      "Минимальное значение ненулевых элементов: 0.0\n"
     ]
    }
   ],
   "source": [
    "user_x_item = ratings[[\"user_id\", \"movie_id\"]].as_matrix()\n",
    "mean_rating = ratings[\"rating\"].mean()\n",
    "user_item_matrix = csr_matrix(\n",
    "    (\n",
    "        (ratings[\"rating\"] > mean_rating).tolist(),\n",
    "        (\n",
    "            [pair[0] for pair in user_x_item],\n",
    "            [pair[1] for pair in user_x_item],\n",
    "        )\n",
    "    ),\n",
    "    shape=(last_user_id + 1, last_movie_id + 1),\n",
    "    dtype=np.float32\n",
    ")\n",
    "\n",
    "sparse_info(user_item_matrix)"
   ]
  },
  {
   "cell_type": "code",
   "execution_count": 51,
   "metadata": {
    "slideshow": {
     "slide_type": "slide"
    }
   },
   "outputs": [
    {
     "name": "stdout",
     "output_type": "stream",
     "text": [
      "размер обучающей выборки: 41289\n",
      "размер тестовой выборки: 10279\n"
     ]
    }
   ],
   "source": [
    "# разобьём наблюдения на тестовую и обучающую выборки\n",
    "np.random.seed(0)\n",
    "test_indices = np.random.choice(\n",
    "    range(user_item_matrix.nnz),\n",
    "    replace=False,\n",
    "    size=int(user_item_matrix.nnz * 0.2)\n",
    ").tolist()\n",
    "train_data = user_item_matrix.copy()\n",
    "train_data.data[test_indices] = 0\n",
    "train_data.eliminate_zeros()\n",
    "print(\"размер обучающей выборки: {}\".format(train_data.nnz))\n",
    "test_data = user_item_matrix.copy()\n",
    "test_data.data[:] = 0\n",
    "test_data.data[test_indices] = user_item_matrix.data[test_indices]\n",
    "test_data.eliminate_zeros()\n",
    "print(\"размер тестовой выборки: {}\".format(test_data.nnz))"
   ]
  },
  {
   "cell_type": "code",
   "execution_count": 52,
   "metadata": {
    "slideshow": {
     "slide_type": "slide"
    }
   },
   "outputs": [
    {
     "name": "stdout",
     "output_type": "stream",
     "text": [
      "ROC AUC: train 0.61, test 0.61.\n"
     ]
    }
   ],
   "source": [
    "from lightfm import LightFM\n",
    "from lightfm.evaluation import auc_score\n",
    "\n",
    "# обучаем абы какую модель\n",
    "model = LightFM(loss=\"bpr\")\n",
    "model.fit(\n",
    "    train_data,\n",
    "    num_threads=4\n",
    ")\n",
    "\n",
    "train_mrr = auc_score(model, train_data).mean()\n",
    "test_mrr = auc_score(model, test_data).mean()\n",
    "print('ROC AUC: train %.2f, test %.2f.' % (train_mrr, test_mrr))"
   ]
  },
  {
   "cell_type": "code",
   "execution_count": 53,
   "metadata": {
    "slideshow": {
     "slide_type": "slide"
    }
   },
   "outputs": [
    {
     "data": {
      "text/html": [
       "<div>\n",
       "<style scoped>\n",
       "    .dataframe tbody tr th:only-of-type {\n",
       "        vertical-align: middle;\n",
       "    }\n",
       "\n",
       "    .dataframe tbody tr th {\n",
       "        vertical-align: top;\n",
       "    }\n",
       "\n",
       "    .dataframe thead th {\n",
       "        text-align: right;\n",
       "    }\n",
       "</style>\n",
       "<table border=\"1\" class=\"dataframe\">\n",
       "  <thead>\n",
       "    <tr style=\"text-align: right;\">\n",
       "      <th></th>\n",
       "      <th>movie_id</th>\n",
       "      <th>genres</th>\n",
       "      <th>genres_set</th>\n",
       "    </tr>\n",
       "  </thead>\n",
       "  <tbody>\n",
       "    <tr>\n",
       "      <th>495</th>\n",
       "      <td>0</td>\n",
       "      <td>Adventure|Children|Fantasy</td>\n",
       "      <td>{Adventure, Fantasy, Children}</td>\n",
       "    </tr>\n",
       "    <tr>\n",
       "      <th>963</th>\n",
       "      <td>1</td>\n",
       "      <td>Comedy|Romance</td>\n",
       "      <td>{Comedy, Romance}</td>\n",
       "    </tr>\n",
       "    <tr>\n",
       "      <th>351</th>\n",
       "      <td>2</td>\n",
       "      <td>Comedy|Drama|Romance</td>\n",
       "      <td>{Comedy, Romance, Drama}</td>\n",
       "    </tr>\n",
       "    <tr>\n",
       "      <th>3108</th>\n",
       "      <td>3</td>\n",
       "      <td>Comedy</td>\n",
       "      <td>{Comedy}</td>\n",
       "    </tr>\n",
       "    <tr>\n",
       "      <th>964</th>\n",
       "      <td>4</td>\n",
       "      <td>Action|Crime|Thriller</td>\n",
       "      <td>{Action, Thriller, Crime}</td>\n",
       "    </tr>\n",
       "  </tbody>\n",
       "</table>\n",
       "</div>"
      ],
      "text/plain": [
       "      movie_id                      genres                      genres_set\n",
       "495          0  Adventure|Children|Fantasy  {Adventure, Fantasy, Children}\n",
       "963          1              Comedy|Romance               {Comedy, Romance}\n",
       "351          2        Comedy|Drama|Romance        {Comedy, Romance, Drama}\n",
       "3108         3                      Comedy                        {Comedy}\n",
       "964          4       Action|Crime|Thriller       {Action, Thriller, Crime}"
      ]
     },
     "execution_count": 53,
     "metadata": {},
     "output_type": "execute_result"
    }
   ],
   "source": [
    "# выберем информацию по жанрам фильмов\n",
    "movies_genres = ratings[[\"movieId\", \"movie_id\"]].drop_duplicates().join(\n",
    "    movies,\n",
    "    on=\"movieId\",\n",
    "    rsuffix=\"codes\",\n",
    "    lsuffix=\"movies\",\n",
    "    sort=True\n",
    ").fillna(\"None\")[[\"movie_id\", \"genres\"]]\n",
    "movies_genres[\"genres_set\"] = movies_genres[\"genres\"].apply(lambda x: set(x.split(\"|\")))\n",
    "movies_genres.head()"
   ]
  },
  {
   "cell_type": "code",
   "execution_count": 54,
   "metadata": {
    "slideshow": {
     "slide_type": "slide"
    }
   },
   "outputs": [
    {
     "data": {
      "text/plain": [
       "{'(no genres listed)',\n",
       " 'Action',\n",
       " 'Adventure',\n",
       " 'Animation',\n",
       " 'Children',\n",
       " 'Comedy',\n",
       " 'Crime',\n",
       " 'Documentary',\n",
       " 'Drama',\n",
       " 'Fantasy',\n",
       " 'Film-Noir',\n",
       " 'Horror',\n",
       " 'IMAX',\n",
       " 'Musical',\n",
       " 'Mystery',\n",
       " 'None',\n",
       " 'Romance',\n",
       " 'Sci-Fi',\n",
       " 'Thriller',\n",
       " 'War',\n",
       " 'Western'}"
      ]
     },
     "execution_count": 54,
     "metadata": {},
     "output_type": "execute_result"
    }
   ],
   "source": [
    "# все возможные жанры\n",
    "from functools import reduce\n",
    "\n",
    "reduce(lambda acc, ele: acc.union(ele), movies_genres[\"genres_set\"].tolist(), set())"
   ]
  },
  {
   "cell_type": "code",
   "execution_count": 55,
   "metadata": {
    "slideshow": {
     "slide_type": "slide"
    }
   },
   "outputs": [
    {
     "data": {
      "text/plain": [
       "<9066x20 sparse matrix of type '<class 'numpy.int64'>'\n",
       "\twith 15786 stored elements in Compressed Sparse Row format>"
      ]
     },
     "execution_count": 55,
     "metadata": {},
     "output_type": "execute_result"
    }
   ],
   "source": [
    "from sklearn.feature_extraction.text import CountVectorizer\n",
    "\n",
    "# приравняем None и (no genres listed)\n",
    "movies_genres.loc[movies_genres[\"genres\"] == \"(no genres listed)\", \"genres\"] = \"None\"\n",
    "# уберём все спецсимволы, кроме |\n",
    "movies_genres[\"genres\"] = movies_genres[\"genres\"].apply(\n",
    "    lambda x: x.replace(\"-\", \"\")\n",
    ")\n",
    "\n",
    "movies_features = CountVectorizer().fit_transform(movies_genres[\"genres\"])\n",
    "movies_features"
   ]
  },
  {
   "cell_type": "code",
   "execution_count": 56,
   "metadata": {
    "slideshow": {
     "slide_type": "slide"
    }
   },
   "outputs": [
    {
     "name": "stdout",
     "output_type": "stream",
     "text": [
      "495    Adventure|Children|Fantasy\n",
      "Name: genres, dtype: object\n",
      "[[0 1 0 1 0 0 0 0 1 0 0 0 0 0 0 0 0 0 0 0]]\n"
     ]
    }
   ],
   "source": [
    "print(movies_genres[\"genres\"][:1])\n",
    "print(movies_features[0].todense())"
   ]
  },
  {
   "cell_type": "code",
   "execution_count": 57,
   "metadata": {
    "slideshow": {
     "slide_type": "slide"
    }
   },
   "outputs": [],
   "source": [
    "# добавляем к movie_id ещё и информацию о жанрах\n",
    "from scipy.sparse import hstack, identity\n",
    "\n",
    "features = hstack([\n",
    "    identity(movies_genres.shape[0]),\n",
    "    movies_features\n",
    "])"
   ]
  },
  {
   "cell_type": "code",
   "execution_count": 58,
   "metadata": {
    "slideshow": {
     "slide_type": "slide"
    }
   },
   "outputs": [
    {
     "name": "stdout",
     "output_type": "stream",
     "text": [
      "ROC AUC: train 0.71, test 0.69.\n"
     ]
    }
   ],
   "source": [
    "# обучаем модель с жанрами\n",
    "hybrid = LightFM(loss=\"bpr\")\n",
    "hybrid.fit(\n",
    "    train_data,\n",
    "    num_threads=4,\n",
    "    item_features=features\n",
    ")\n",
    "\n",
    "train_mrr = auc_score(hybrid, train_data, item_features=features).mean()\n",
    "test_mrr = auc_score(hybrid, test_data, item_features=features).mean()\n",
    "print('ROC AUC: train %.2f, test %.2f.' % (train_mrr, test_mrr))"
   ]
  },
  {
   "cell_type": "code",
   "execution_count": null,
   "metadata": {},
   "outputs": [],
   "source": []
  },
  {
   "cell_type": "code",
   "execution_count": null,
   "metadata": {},
   "outputs": [],
   "source": []
  }
 ],
 "metadata": {
  "celltoolbar": "Slideshow",
  "kernelspec": {
   "display_name": "Python 3",
   "language": "python",
   "name": "python3"
  },
  "language_info": {
   "codemirror_mode": {
    "name": "ipython",
    "version": 3
   },
   "file_extension": ".py",
   "mimetype": "text/x-python",
   "name": "python",
   "nbconvert_exporter": "python",
   "pygments_lexer": "ipython3",
   "version": "3.5.2"
  }
 },
 "nbformat": 4,
 "nbformat_minor": 1
}
