{
 "cells": [
  {
   "cell_type": "code",
   "execution_count": 1,
   "metadata": {
    "slideshow": {
     "slide_type": "slide"
    }
   },
   "outputs": [],
   "source": [
    "TMDB_API_KEY = #API KEY с https://developers.themoviedb.org/"
   ]
  },
  {
   "cell_type": "code",
   "execution_count": 2,
   "metadata": {
    "slideshow": {
     "slide_type": "slide"
    }
   },
   "outputs": [],
   "source": [
    "import requests\n",
    "\n",
    "def get_movie_data(tmdbId):  \n",
    "    url = \"https://api.themoviedb.org/3/movie/%s\" % tmdbId\n",
    "    params = {\n",
    "        \"api_key\": TMDB_API_KEY,\n",
    "        \"external_source\": \"imdb_id\"\n",
    "    }\n",
    "    resp = requests.get(url, params=params)\n",
    "    return resp.json()"
   ]
  },
  {
   "cell_type": "code",
   "execution_count": 3,
   "metadata": {
    "slideshow": {
     "slide_type": "slide"
    }
   },
   "outputs": [
    {
     "data": {
      "text/plain": [
       "{'adult': False,\n",
       " 'backdrop_path': None,\n",
       " 'belongs_to_collection': None,\n",
       " 'budget': 0,\n",
       " 'genres': [{'id': 53, 'name': 'Thriller'}],\n",
       " 'homepage': 'http://www.luecke-im-system.de/',\n",
       " 'id': 555,\n",
       " 'imdb_id': 'tt0442896',\n",
       " 'original_language': 'en',\n",
       " 'original_title': 'Absolut',\n",
       " 'overview': 'Two guys against globalization want to plant a virus in the network of a finance corporation. On the day of the attack Alex has an accident and cannot remember anything.',\n",
       " 'popularity': 0.026365,\n",
       " 'poster_path': '/6YemisOilgHbBp6UtgoONHg8eJk.jpg',\n",
       " 'production_companies': [{'id': 319, 'name': 'Frenetic Films'}],\n",
       " 'production_countries': [{'iso_3166_1': 'CH', 'name': 'Switzerland'}],\n",
       " 'release_date': '2005-04-20',\n",
       " 'revenue': 0,\n",
       " 'runtime': 94,\n",
       " 'spoken_languages': [{'iso_639_1': 'fr', 'name': 'Français'}],\n",
       " 'status': 'Released',\n",
       " 'tagline': '',\n",
       " 'title': 'Absolut',\n",
       " 'video': False,\n",
       " 'vote_average': 0.0,\n",
       " 'vote_count': 0}"
      ]
     },
     "execution_count": 3,
     "metadata": {},
     "output_type": "execute_result"
    }
   ],
   "source": [
    "get_movie_data(555)"
   ]
  },
  {
   "cell_type": "code",
   "execution_count": 4,
   "metadata": {
    "slideshow": {
     "slide_type": "slide"
    }
   },
   "outputs": [],
   "source": [
    "import pandas as pd\n",
    "import numpy as np"
   ]
  },
  {
   "cell_type": "code",
   "execution_count": 6,
   "metadata": {
    "slideshow": {
     "slide_type": "slide"
    }
   },
   "outputs": [
    {
     "data": {
      "text/html": [
       "<div>\n",
       "<style scoped>\n",
       "    .dataframe tbody tr th:only-of-type {\n",
       "        vertical-align: middle;\n",
       "    }\n",
       "\n",
       "    .dataframe tbody tr th {\n",
       "        vertical-align: top;\n",
       "    }\n",
       "\n",
       "    .dataframe thead th {\n",
       "        text-align: right;\n",
       "    }\n",
       "</style>\n",
       "<table border=\"1\" class=\"dataframe\">\n",
       "  <thead>\n",
       "    <tr style=\"text-align: right;\">\n",
       "      <th></th>\n",
       "      <th>movieId</th>\n",
       "      <th>imdbId</th>\n",
       "      <th>tmdbId</th>\n",
       "    </tr>\n",
       "  </thead>\n",
       "  <tbody>\n",
       "    <tr>\n",
       "      <th>9120</th>\n",
       "      <td>162672</td>\n",
       "      <td>3859980</td>\n",
       "      <td>402672.0</td>\n",
       "    </tr>\n",
       "    <tr>\n",
       "      <th>9121</th>\n",
       "      <td>163056</td>\n",
       "      <td>4262980</td>\n",
       "      <td>315011.0</td>\n",
       "    </tr>\n",
       "    <tr>\n",
       "      <th>9122</th>\n",
       "      <td>163949</td>\n",
       "      <td>2531318</td>\n",
       "      <td>391698.0</td>\n",
       "    </tr>\n",
       "    <tr>\n",
       "      <th>9123</th>\n",
       "      <td>164977</td>\n",
       "      <td>27660</td>\n",
       "      <td>137608.0</td>\n",
       "    </tr>\n",
       "    <tr>\n",
       "      <th>9124</th>\n",
       "      <td>164979</td>\n",
       "      <td>3447228</td>\n",
       "      <td>410803.0</td>\n",
       "    </tr>\n",
       "  </tbody>\n",
       "</table>\n",
       "</div>"
      ],
      "text/plain": [
       "      movieId   imdbId    tmdbId\n",
       "9120   162672  3859980  402672.0\n",
       "9121   163056  4262980  315011.0\n",
       "9122   163949  2531318  391698.0\n",
       "9123   164977    27660  137608.0\n",
       "9124   164979  3447228  410803.0"
      ]
     },
     "execution_count": 6,
     "metadata": {},
     "output_type": "execute_result"
    }
   ],
   "source": [
    "links_df = pd.read_csv(\"/home/ubuntu/data/movielens/ml-latest-small/links.csv\")\n",
    "links_df.tail()"
   ]
  },
  {
   "cell_type": "code",
   "execution_count": 7,
   "metadata": {
    "slideshow": {
     "slide_type": "slide"
    }
   },
   "outputs": [],
   "source": [
    "import time\n",
    "\n",
    "movies = []\n",
    "for cnt, movie_id in enumerate(links_df.movieId.unique()):\n",
    "    tmdbId = int(links_df.loc[movie_id].tmdbId)\n",
    "    data = get_movie_data(tmdbId)\n",
    "    if len(data) == 0:\n",
    "        continue\n",
    "    movies.append({\n",
    "        \"movie_id\": movie_id, \n",
    "        \"overview\": data[\"overview\"],\n",
    "        \"title\": data[\"title\"]\n",
    "    })\n",
    "    # 40 requests every 10 second\n",
    "    time.sleep(10 / 40)"
   ]
  },
  {
   "cell_type": "code",
   "execution_count": 8,
   "metadata": {
    "slideshow": {
     "slide_type": "slide"
    }
   },
   "outputs": [
    {
     "name": "stdout",
     "output_type": "stream",
     "text": [
      "101\n"
     ]
    },
    {
     "data": {
      "text/plain": [
       "[{'movie_id': 1,\n",
       "  'overview': \"When siblings Judy and Peter discover an enchanted board game that opens the door to a magical world, they unwittingly invite Alan -- an adult who's been trapped inside the game for 26 years -- into their living room. Alan's only hope for freedom is to finish the game, which proves risky as all three find themselves running from giant rhinoceroses, evil monkeys and other terrifying creatures.\",\n",
       "  'title': 'Jumanji'},\n",
       " {'movie_id': 2,\n",
       "  'overview': \"A family wedding reignites the ancient feud between next-door neighbors and fishing buddies John and Max. Meanwhile, a sultry Italian divorcée opens a restaurant at the local bait shop, alarming the locals who worry she'll scare the fish away. But she's less interested in seafood than she is in cooking up a hot time with Max.\",\n",
       "  'title': 'Grumpier Old Men'}]"
      ]
     },
     "execution_count": 8,
     "metadata": {},
     "output_type": "execute_result"
    }
   ],
   "source": [
    "print(len(movies))\n",
    "movies[:2]"
   ]
  },
  {
   "cell_type": "code",
   "execution_count": 9,
   "metadata": {
    "slideshow": {
     "slide_type": "slide"
    }
   },
   "outputs": [],
   "source": [
    "texts = [m[\"overview\"] for m in movies]"
   ]
  },
  {
   "cell_type": "code",
   "execution_count": 10,
   "metadata": {
    "slideshow": {
     "slide_type": "slide"
    }
   },
   "outputs": [
    {
     "data": {
      "text/plain": [
       "TfidfVectorizer(analyzer='word', binary=False, decode_error='strict',\n",
       "        dtype=<class 'numpy.int64'>, encoding='utf-8', input='content',\n",
       "        lowercase=True, max_df=1.0, max_features=None, min_df=1,\n",
       "        ngram_range=(1, 1), norm='l2', preprocessor=None, smooth_idf=True,\n",
       "        stop_words='english', strip_accents=None, sublinear_tf=False,\n",
       "        token_pattern='(?u)\\\\b\\\\w\\\\w+\\\\b', tokenizer=None, use_idf=True,\n",
       "        vocabulary=None)"
      ]
     },
     "execution_count": 10,
     "metadata": {},
     "output_type": "execute_result"
    }
   ],
   "source": [
    "from sklearn.feature_extraction.text import TfidfVectorizer\n",
    "tfidf = TfidfVectorizer(stop_words='english')\n",
    "tfidf.fit(texts)"
   ]
  },
  {
   "cell_type": "code",
   "execution_count": 11,
   "metadata": {
    "slideshow": {
     "slide_type": "slide"
    }
   },
   "outputs": [
    {
     "data": {
      "text/plain": [
       "{'movie_id': 1,\n",
       " 'overview': \"When siblings Judy and Peter discover an enchanted board game that opens the door to a magical world, they unwittingly invite Alan -- an adult who's been trapped inside the game for 26 years -- into their living room. Alan's only hope for freedom is to finish the game, which proves risky as all three find themselves running from giant rhinoceroses, evil monkeys and other terrifying creatures.\",\n",
       " 'title': 'Jumanji'}"
      ]
     },
     "execution_count": 11,
     "metadata": {},
     "output_type": "execute_result"
    }
   ],
   "source": [
    "target_m = movies[0]\n",
    "target_m"
   ]
  },
  {
   "cell_type": "code",
   "execution_count": 12,
   "metadata": {
    "slideshow": {
     "slide_type": "slide"
    }
   },
   "outputs": [
    {
     "data": {
      "text/plain": [
       "<1x1907 sparse matrix of type '<class 'numpy.float64'>'\n",
       "\twith 33 stored elements in Compressed Sparse Row format>"
      ]
     },
     "execution_count": 12,
     "metadata": {},
     "output_type": "execute_result"
    }
   ],
   "source": [
    "item_profile = tfidf.transform([target_m[\"overview\"]])\n",
    "item_profile"
   ]
  },
  {
   "cell_type": "code",
   "execution_count": 13,
   "metadata": {
    "slideshow": {
     "slide_type": "slide"
    }
   },
   "outputs": [],
   "source": [
    "ftr_id_to_term = {ftr_id: term for term, ftr_id in tfidf.vocabulary_.items()}"
   ]
  },
  {
   "cell_type": "code",
   "execution_count": 14,
   "metadata": {
    "slideshow": {
     "slide_type": "slide"
    }
   },
   "outputs": [
    {
     "name": "stdout",
     "output_type": "stream",
     "text": [
      "game : 0.416298942633\n",
      "alan : 0.322917283351\n",
      "unwittingly : 0.161458641675\n",
      "trapped : 0.161458641675\n",
      "terrifying : 0.161458641675\n",
      "siblings : 0.161458641675\n",
      "running : 0.161458641675\n",
      "risky : 0.161458641675\n",
      "rhinoceroses : 0.161458641675\n",
      "proves : 0.161458641675\n",
      "peter : 0.161458641675\n",
      "judy : 0.161458641675\n",
      "invite : 0.161458641675\n",
      "giant : 0.161458641675\n",
      "freedom : 0.161458641675\n",
      "finish : 0.161458641675\n",
      "enchanted : 0.161458641675\n",
      "creatures : 0.161458641675\n",
      "adult : 0.161458641675\n",
      "26 : 0.161458641675\n",
      "opens : 0.148184481055\n",
      "monkeys : 0.148184481055\n",
      "magical : 0.148184481055\n",
      "living : 0.148184481055\n",
      "door : 0.148184481055\n",
      "years : 0.138766314211\n",
      "room : 0.138766314211\n",
      "inside : 0.138766314211\n",
      "hope : 0.138766314211\n",
      "evil : 0.138766314211\n",
      "board : 0.138766314211\n",
      "discover : 0.131461016462\n",
      "world : 0.102799826126\n"
     ]
    }
   ],
   "source": [
    "for ftr_id, score in sorted(\n",
    "    zip(item_profile.indices, item_profile.data),\n",
    "    key=lambda x: x[1],\n",
    "    reverse=True\n",
    "):\n",
    "    print(ftr_id_to_term[ftr_id], \":\", score)"
   ]
  },
  {
   "cell_type": "code",
   "execution_count": 15,
   "metadata": {
    "slideshow": {
     "slide_type": "slide"
    }
   },
   "outputs": [
    {
     "data": {
      "text/plain": [
       "array([482, 136, 166, 532, 525,  13, 298, 652, 433, 560])"
      ]
     },
     "execution_count": 15,
     "metadata": {},
     "output_type": "execute_result"
    }
   ],
   "source": [
    "r_df = pd.read_csv(\"/home/ubuntu/data/movielens/ml-latest-small/ratings.csv\")\n",
    "# посчитаем количество рейтингов на пользователя\n",
    "r_per_user = r_df.userId.value_counts()\n",
    "# оставим только 10 пользователей с минимум 50 оценками\n",
    "good_uids = np.random.choice(r_per_user[r_per_user >= 50].index, size=10, replace=False)\n",
    "good_uids"
   ]
  },
  {
   "cell_type": "code",
   "execution_count": 29,
   "metadata": {
    "slideshow": {
     "slide_type": "slide"
    }
   },
   "outputs": [
    {
     "data": {
      "text/plain": [
       "433"
      ]
     },
     "execution_count": 29,
     "metadata": {},
     "output_type": "execute_result"
    }
   ],
   "source": [
    "uid = np.random.choice(good_uids)\n",
    "uid"
   ]
  },
  {
   "cell_type": "code",
   "execution_count": 30,
   "metadata": {
    "slideshow": {
     "slide_type": "slide"
    }
   },
   "outputs": [
    {
     "data": {
      "text/html": [
       "<div>\n",
       "<style scoped>\n",
       "    .dataframe tbody tr th:only-of-type {\n",
       "        vertical-align: middle;\n",
       "    }\n",
       "\n",
       "    .dataframe tbody tr th {\n",
       "        vertical-align: top;\n",
       "    }\n",
       "\n",
       "    .dataframe thead th {\n",
       "        text-align: right;\n",
       "    }\n",
       "</style>\n",
       "<table border=\"1\" class=\"dataframe\">\n",
       "  <thead>\n",
       "    <tr style=\"text-align: right;\">\n",
       "      <th></th>\n",
       "      <th>userId</th>\n",
       "      <th>movieId</th>\n",
       "      <th>rating</th>\n",
       "      <th>timestamp</th>\n",
       "    </tr>\n",
       "  </thead>\n",
       "  <tbody>\n",
       "    <tr>\n",
       "      <th>59860</th>\n",
       "      <td>433</td>\n",
       "      <td>1</td>\n",
       "      <td>4.5</td>\n",
       "      <td>1417930541</td>\n",
       "    </tr>\n",
       "    <tr>\n",
       "      <th>59861</th>\n",
       "      <td>433</td>\n",
       "      <td>6</td>\n",
       "      <td>5.0</td>\n",
       "      <td>1417930660</td>\n",
       "    </tr>\n",
       "    <tr>\n",
       "      <th>59862</th>\n",
       "      <td>433</td>\n",
       "      <td>11</td>\n",
       "      <td>1.5</td>\n",
       "      <td>1417930769</td>\n",
       "    </tr>\n",
       "    <tr>\n",
       "      <th>59863</th>\n",
       "      <td>433</td>\n",
       "      <td>16</td>\n",
       "      <td>4.5</td>\n",
       "      <td>1417930766</td>\n",
       "    </tr>\n",
       "    <tr>\n",
       "      <th>59864</th>\n",
       "      <td>433</td>\n",
       "      <td>19</td>\n",
       "      <td>2.5</td>\n",
       "      <td>1417930709</td>\n",
       "    </tr>\n",
       "  </tbody>\n",
       "</table>\n",
       "</div>"
      ],
      "text/plain": [
       "       userId  movieId  rating   timestamp\n",
       "59860     433        1     4.5  1417930541\n",
       "59861     433        6     5.0  1417930660\n",
       "59862     433       11     1.5  1417930769\n",
       "59863     433       16     4.5  1417930766\n",
       "59864     433       19     2.5  1417930709"
      ]
     },
     "execution_count": 30,
     "metadata": {},
     "output_type": "execute_result"
    }
   ],
   "source": [
    "# история рейтингов пользователя\n",
    "uid_df = r_df[r_df.userId == uid]\n",
    "uid_df.head()"
   ]
  },
  {
   "cell_type": "code",
   "execution_count": 31,
   "metadata": {
    "slideshow": {
     "slide_type": "slide"
    }
   },
   "outputs": [
    {
     "name": "stderr",
     "output_type": "stream",
     "text": [
      "/usr/local/lib/python3.5/dist-packages/ipykernel_launcher.py:1: SettingWithCopyWarning: \n",
      "A value is trying to be set on a copy of a slice from a DataFrame.\n",
      "Try using .loc[row_indexer,col_indexer] = value instead\n",
      "\n",
      "See the caveats in the documentation: http://pandas.pydata.org/pandas-docs/stable/indexing.html#indexing-view-versus-copy\n",
      "  \"\"\"Entry point for launching an IPython kernel.\n"
     ]
    },
    {
     "data": {
      "text/html": [
       "<div>\n",
       "<style scoped>\n",
       "    .dataframe tbody tr th:only-of-type {\n",
       "        vertical-align: middle;\n",
       "    }\n",
       "\n",
       "    .dataframe tbody tr th {\n",
       "        vertical-align: top;\n",
       "    }\n",
       "\n",
       "    .dataframe thead th {\n",
       "        text-align: right;\n",
       "    }\n",
       "</style>\n",
       "<table border=\"1\" class=\"dataframe\">\n",
       "  <thead>\n",
       "    <tr style=\"text-align: right;\">\n",
       "      <th></th>\n",
       "      <th>userId</th>\n",
       "      <th>movieId</th>\n",
       "      <th>rating</th>\n",
       "      <th>timestamp</th>\n",
       "      <th>liked</th>\n",
       "    </tr>\n",
       "  </thead>\n",
       "  <tbody>\n",
       "    <tr>\n",
       "      <th>59860</th>\n",
       "      <td>433</td>\n",
       "      <td>1</td>\n",
       "      <td>4.5</td>\n",
       "      <td>1417930541</td>\n",
       "      <td>1</td>\n",
       "    </tr>\n",
       "    <tr>\n",
       "      <th>59861</th>\n",
       "      <td>433</td>\n",
       "      <td>6</td>\n",
       "      <td>5.0</td>\n",
       "      <td>1417930660</td>\n",
       "      <td>1</td>\n",
       "    </tr>\n",
       "    <tr>\n",
       "      <th>59862</th>\n",
       "      <td>433</td>\n",
       "      <td>11</td>\n",
       "      <td>1.5</td>\n",
       "      <td>1417930769</td>\n",
       "      <td>0</td>\n",
       "    </tr>\n",
       "    <tr>\n",
       "      <th>59863</th>\n",
       "      <td>433</td>\n",
       "      <td>16</td>\n",
       "      <td>4.5</td>\n",
       "      <td>1417930766</td>\n",
       "      <td>1</td>\n",
       "    </tr>\n",
       "    <tr>\n",
       "      <th>59864</th>\n",
       "      <td>433</td>\n",
       "      <td>19</td>\n",
       "      <td>2.5</td>\n",
       "      <td>1417930709</td>\n",
       "      <td>0</td>\n",
       "    </tr>\n",
       "  </tbody>\n",
       "</table>\n",
       "</div>"
      ],
      "text/plain": [
       "       userId  movieId  rating   timestamp  liked\n",
       "59860     433        1     4.5  1417930541      1\n",
       "59861     433        6     5.0  1417930660      1\n",
       "59862     433       11     1.5  1417930769      0\n",
       "59863     433       16     4.5  1417930766      1\n",
       "59864     433       19     2.5  1417930709      0"
      ]
     },
     "execution_count": 31,
     "metadata": {},
     "output_type": "execute_result"
    }
   ],
   "source": [
    "uid_df[\"liked\"] = (uid_df.rating >= uid_df.rating.mean()).astype(int)\n",
    "uid_df.head()"
   ]
  },
  {
   "cell_type": "code",
   "execution_count": 32,
   "metadata": {
    "slideshow": {
     "slide_type": "slide"
    }
   },
   "outputs": [
    {
     "data": {
      "text/plain": [
       "1    115\n",
       "0     83\n",
       "Name: liked, dtype: int64"
      ]
     },
     "execution_count": 32,
     "metadata": {},
     "output_type": "execute_result"
    }
   ],
   "source": [
    "uid_df.liked.value_counts()"
   ]
  },
  {
   "cell_type": "code",
   "execution_count": 33,
   "metadata": {
    "slideshow": {
     "slide_type": "slide"
    }
   },
   "outputs": [
    {
     "name": "stdout",
     "output_type": "stream",
     "text": [
      "Jumanji : 1\n",
      "Sabrina : 1\n",
      "Dracula: Dead and Loving It : 0\n",
      "Sense and Sensibility : 1\n",
      "Money Train : 0\n",
      "Babe : 1\n",
      "It Takes Two : 0\n",
      "When Night Is Falling : 1\n",
      "Lamerica : 0\n",
      "Margaret's Museum : 0\n"
     ]
    }
   ],
   "source": [
    "X = []\n",
    "y = []\n",
    "\n",
    "for t in uid_df.itertuples():\n",
    "    for m in movies:\n",
    "        if m[\"movie_id\"] == t.movieId:\n",
    "            print(m[\"title\"], \":\", t.liked)\n",
    "            X.append(tfidf.transform([m[\"overview\"]]))\n",
    "            y.append(t.liked)\n",
    "            break"
   ]
  },
  {
   "cell_type": "code",
   "execution_count": 34,
   "metadata": {
    "slideshow": {
     "slide_type": "slide"
    }
   },
   "outputs": [],
   "source": [
    "from scipy.sparse import vstack\n",
    "X = vstack(X, 'csr')\n",
    "y = np.array(y)"
   ]
  },
  {
   "cell_type": "code",
   "execution_count": 35,
   "metadata": {
    "slideshow": {
     "slide_type": "slide"
    }
   },
   "outputs": [
    {
     "data": {
      "text/plain": [
       "array([ 0.80729321,  0.80729321,  1.61458642,  0.69383157,  0.80729321,\n",
       "        0.65730508,  0.74092241,  0.80729321,  0.69383157,  0.80729321,\n",
       "        0.80729321,  2.08149471,  0.80729321,  0.69383157,  0.69383157,\n",
       "        0.80729321,  0.80729321,  0.74092241,  0.74092241,  0.74092241,\n",
       "        0.74092241,  0.80729321,  0.80729321,  0.80729321,  0.80729321,\n",
       "        0.69383157,  0.80729321,  0.80729321,  0.80729321,  0.80729321,\n",
       "        0.80729321,  0.51399913,  0.69383157,  1.03183239,  1.32755914,\n",
       "        1.32755914,  1.14097633,  1.32755914,  1.32755914,  1.32755914,\n",
       "        1.32755914,  1.32755914,  1.2184152 ,  1.32755914,  1.32755914,\n",
       "        1.32755914,  1.32755914,  1.32755914,  1.14959554,  1.25257472,\n",
       "        1.25257472,  1.25257472,  1.25257472,  1.07653065,  1.25257472,\n",
       "        0.97355148,  1.25257472,  1.25257472,  1.01985712,  1.14959554,\n",
       "        1.25257472,  1.01985712,  1.25257472,  1.14959554,  1.07653065,\n",
       "        1.25257472,  1.31158655,  2.62317309,  1.20375577,  1.31158655,\n",
       "        1.20375577,  1.12724862,  1.31158655,  1.20375577,  1.06790506,\n",
       "        1.31158655,  1.31158655,  1.31158655,  1.01941784,  1.02602156,\n",
       "        2.26910171,  1.07482287,  1.32008291,  1.21155361,  1.32008291,\n",
       "        0.79922858,  1.32008291,  1.21155361,  1.32008291,  1.32008291,\n",
       "        1.32008291,  0.98476063,  1.32008291,  0.9490188 ,  2.21038876,\n",
       "        0.73679625,  0.73679625,  0.59990585,  0.67622129,  0.73679625,\n",
       "        0.73679625,  0.73679625,  0.73679625,  0.67622129,  0.52968907,\n",
       "        0.73679625,  0.59990585,  0.73679625,  0.67622129,  0.67622129,\n",
       "        0.5726677 ,  0.63324266,  0.63324266,  0.73679625,  0.67622129,\n",
       "        0.73679625,  2.21038876,  0.67622129,  0.67622129,  0.63324266,\n",
       "        0.73679625,  1.47359251,  0.73679625,  0.51209273,  0.5726677 ,\n",
       "        0.46911411,  1.9506848 ,  1.7903112 ,  0.9753424 ,  0.9753424 ,\n",
       "        0.9753424 ,  0.9753424 ,  0.8951556 ,  0.83826216,  0.9753424 ,\n",
       "        0.9753424 ,  0.8951556 ,  0.9753424 ,  0.9753424 ,  0.9753424 ,\n",
       "        0.8951556 ,  0.8951556 ,  0.9753424 ,  0.83826216,  0.83826216,\n",
       "        0.9753424 ,  0.8951556 ,  0.9753424 ,  0.67788856,  1.14506709,\n",
       "        1.14506709,  0.93232348,  0.85420165,  0.98413276,  1.05092654,\n",
       "        1.14506709,  1.14506709,  0.82319844,  1.14506709,  1.14506709,\n",
       "        1.05092654,  1.14506709,  1.14506709,  0.82319844,  1.14506709,\n",
       "        1.14506709,  1.86464697,  1.14506709,  0.98413276,  0.67064489,\n",
       "        1.34128977,  0.67064489,  0.54604484,  0.57638859,  0.67064489,\n",
       "        0.67064489,  0.67064489,  0.67064489,  0.67064489,  0.67064489,\n",
       "        0.54604484,  0.67064489,  1.34128977,  0.67064489,  0.67064489,\n",
       "        1.34128977,  0.61550849,  0.61550849,  0.61550849,  0.57638859,\n",
       "        0.67064489,  0.54604484,  0.52125219,  0.61550849,  0.67064489,\n",
       "        0.67064489,  0.67064489,  0.67064489,  0.67064489,  0.67064489,\n",
       "        0.61550849,  0.67064489,  0.61550849,  0.54604484,  0.61550849,\n",
       "        0.61550849,  0.67064489,  2.01193466,  0.67064489,  0.61550849,\n",
       "        0.61550849,  0.43882797,  0.97215063,  0.97215063,  0.97215063,\n",
       "        0.97215063,  0.97215063,  0.97215063,  0.97215063,  0.97215063,\n",
       "        0.97215063,  0.89222624,  0.97215063,  0.83551898,  0.89222624,\n",
       "        0.79153341,  0.97215063,  0.97215063,  0.89222624,  0.75559459,\n",
       "        0.79153341,  0.89222624,  0.97215063,  0.97215063,  0.89222624,\n",
       "        0.89222624,  0.79153341,  0.97215063,  0.97215063,  1.39777466])"
      ]
     },
     "execution_count": 35,
     "metadata": {},
     "output_type": "execute_result"
    }
   ],
   "source": [
    "sum(y.dot(X)).data"
   ]
  },
  {
   "cell_type": "code",
   "execution_count": null,
   "metadata": {},
   "outputs": [],
   "source": []
  }
 ],
 "metadata": {
  "celltoolbar": "Slideshow",
  "kernelspec": {
   "display_name": "Python 3",
   "language": "python",
   "name": "python3"
  },
  "language_info": {
   "codemirror_mode": {
    "name": "ipython",
    "version": 3
   },
   "file_extension": ".py",
   "mimetype": "text/x-python",
   "name": "python",
   "nbconvert_exporter": "python",
   "pygments_lexer": "ipython3",
   "version": "3.5.2"
  }
 },
 "nbformat": 4,
 "nbformat_minor": 2
}
